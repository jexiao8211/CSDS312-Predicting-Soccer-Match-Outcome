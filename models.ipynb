{
  "nbformat": 4,
  "nbformat_minor": 0,
  "metadata": {
    "colab": {
      "provenance": [],
      "toc_visible": true,
      "authorship_tag": "ABX9TyNcz1CIBZcoofD/x4OtNGhV",
      "include_colab_link": true
    },
    "kernelspec": {
      "name": "python3",
      "display_name": "Python 3"
    },
    "language_info": {
      "name": "python"
    },
    "accelerator": "GPU",
    "gpuClass": "standard"
  },
  "cells": [
    {
      "cell_type": "markdown",
      "metadata": {
        "id": "view-in-github",
        "colab_type": "text"
      },
      "source": [
        "<a href=\"https://colab.research.google.com/github/jexiao8211/CSDS312-FINAL-PROJECT/blob/main/models.ipynb\" target=\"_parent\"><img src=\"https://colab.research.google.com/assets/colab-badge.svg\" alt=\"Open In Colab\"/></a>"
      ]
    },
    {
      "cell_type": "code",
      "execution_count": 1,
      "metadata": {
        "colab": {
          "base_uri": "https://localhost:8080/"
        },
        "id": "7NF5reFnK8IU",
        "outputId": "d95522f5-c0a3-423c-f76e-f4fcca4432ec"
      },
      "outputs": [
        {
          "output_type": "stream",
          "name": "stdout",
          "text": [
            "nvcc: NVIDIA (R) Cuda compiler driver\n",
            "Copyright (c) 2005-2022 NVIDIA Corporation\n",
            "Built on Wed_Sep_21_10:33:58_PDT_2022\n",
            "Cuda compilation tools, release 11.8, V11.8.89\n",
            "Build cuda_11.8.r11.8/compiler.31833905_0\n",
            "/usr/local/cuda/bin/nvcc\n"
          ]
        }
      ],
      "source": [
        "!nvcc -V && which nvcc"
      ]
    },
    {
      "cell_type": "code",
      "source": [
        "!nvidia-smi"
      ],
      "metadata": {
        "colab": {
          "base_uri": "https://localhost:8080/"
        },
        "id": "ft_Q5XtdLBvf",
        "outputId": "18d8e511-9ec0-4797-e314-97af33e09f27"
      },
      "execution_count": 2,
      "outputs": [
        {
          "output_type": "stream",
          "name": "stdout",
          "text": [
            "Mon May  1 06:09:01 2023       \n",
            "+-----------------------------------------------------------------------------+\n",
            "| NVIDIA-SMI 525.85.12    Driver Version: 525.85.12    CUDA Version: 12.0     |\n",
            "|-------------------------------+----------------------+----------------------+\n",
            "| GPU  Name        Persistence-M| Bus-Id        Disp.A | Volatile Uncorr. ECC |\n",
            "| Fan  Temp  Perf  Pwr:Usage/Cap|         Memory-Usage | GPU-Util  Compute M. |\n",
            "|                               |                      |               MIG M. |\n",
            "|===============================+======================+======================|\n",
            "|   0  Tesla T4            Off  | 00000000:00:04.0 Off |                    0 |\n",
            "| N/A   43C    P8    10W /  70W |      0MiB / 15360MiB |      0%      Default |\n",
            "|                               |                      |                  N/A |\n",
            "+-------------------------------+----------------------+----------------------+\n",
            "                                                                               \n",
            "+-----------------------------------------------------------------------------+\n",
            "| Processes:                                                                  |\n",
            "|  GPU   GI   CI        PID   Type   Process name                  GPU Memory |\n",
            "|        ID   ID                                                   Usage      |\n",
            "|=============================================================================|\n",
            "|  No running processes found                                                 |\n",
            "+-----------------------------------------------------------------------------+\n"
          ]
        }
      ]
    },
    {
      "cell_type": "code",
      "source": [
        "!git clone https://github.com/rapidsai/rapidsai-csp-utils.git"
      ],
      "metadata": {
        "colab": {
          "base_uri": "https://localhost:8080/"
        },
        "id": "Xmbj9Om-LKTD",
        "outputId": "98051b0a-4ee3-4dc3-d1bd-bdd30ba68df3"
      },
      "execution_count": 3,
      "outputs": [
        {
          "output_type": "stream",
          "name": "stdout",
          "text": [
            "fatal: destination path 'rapidsai-csp-utils' already exists and is not an empty directory.\n"
          ]
        }
      ]
    },
    {
      "cell_type": "code",
      "source": [
        "!python3 -m pip install pynvml"
      ],
      "metadata": {
        "colab": {
          "base_uri": "https://localhost:8080/"
        },
        "id": "4cyhbP-yLMNO",
        "outputId": "ac67d12d-dc8e-4ef2-898a-574bc17e58ab"
      },
      "execution_count": 4,
      "outputs": [
        {
          "output_type": "stream",
          "name": "stdout",
          "text": [
            "Looking in indexes: https://pypi.org/simple, https://us-python.pkg.dev/colab-wheels/public/simple/\n",
            "Requirement already satisfied: pynvml in /usr/local/lib/python3.10/site-packages (11.4.1)\n",
            "\u001b[33mWARNING: Running pip as the 'root' user can result in broken permissions and conflicting behaviour with the system package manager. It is recommended to use a virtual environment instead: https://pip.pypa.io/warnings/venv\u001b[0m\u001b[33m\n",
            "\u001b[0m"
          ]
        }
      ]
    },
    {
      "cell_type": "code",
      "source": [
        "!python3 rapidsai-csp-utils/colab/env-check.py"
      ],
      "metadata": {
        "colab": {
          "base_uri": "https://localhost:8080/"
        },
        "id": "endQ84MDLOhC",
        "outputId": "92ef4f22-5a9c-432e-c06f-db7879d3071b"
      },
      "execution_count": 5,
      "outputs": [
        {
          "output_type": "stream",
          "name": "stdout",
          "text": [
            "Traceback (most recent call last):\n",
            "  File \"/content/rapidsai-csp-utils/colab/env-check.py\", line 28, in <module>\n",
            "    if ('K80' not in gpu_name):\n",
            "TypeError: a bytes-like object is required, not 'str'\n"
          ]
        }
      ]
    },
    {
      "cell_type": "code",
      "source": [
        "!python rapidsai-csp-utils/colab/pip-install.py"
      ],
      "metadata": {
        "colab": {
          "base_uri": "https://localhost:8080/"
        },
        "id": "9-wPr1FHU5hX",
        "outputId": "f38e8a4e-8826-4cd0-92a8-f862b07ef1d2"
      },
      "execution_count": 6,
      "outputs": [
        {
          "output_type": "stream",
          "name": "stdout",
          "text": [
            "Traceback (most recent call last):\n",
            "  File \"/content/rapidsai-csp-utils/colab/pip-install.py\", line 28, in <module>\n",
            "    if ('K80' not in gpu_name):\n",
            "TypeError: a bytes-like object is required, not 'str'\n"
          ]
        }
      ]
    },
    {
      "cell_type": "code",
      "source": [
        "import cudf\n",
        "cudf.__version__"
      ],
      "metadata": {
        "colab": {
          "base_uri": "https://localhost:8080/",
          "height": 36
        },
        "id": "OsRoFN7EU6Ke",
        "outputId": "e84f5fd4-0c7c-4de8-c3f4-7f4b98e28746"
      },
      "execution_count": 7,
      "outputs": [
        {
          "output_type": "execute_result",
          "data": {
            "text/plain": [
              "'23.04.01'"
            ],
            "application/vnd.google.colaboratory.intrinsic+json": {
              "type": "string"
            }
          },
          "metadata": {},
          "execution_count": 7
        }
      ]
    },
    {
      "cell_type": "code",
      "source": [
        "import cuml\n",
        "cuml.__version__"
      ],
      "metadata": {
        "colab": {
          "base_uri": "https://localhost:8080/",
          "height": 36
        },
        "id": "8tt3PlkvU6R6",
        "outputId": "1ab0e830-1e5e-40fd-b7b2-4c94e1e5529b"
      },
      "execution_count": 8,
      "outputs": [
        {
          "output_type": "execute_result",
          "data": {
            "text/plain": [
              "'23.04.01'"
            ],
            "application/vnd.google.colaboratory.intrinsic+json": {
              "type": "string"
            }
          },
          "metadata": {},
          "execution_count": 8
        }
      ]
    },
    {
      "cell_type": "code",
      "source": [
        "import cudf\n",
        "import numpy as np\n",
        "import pandas as pd\n",
        "import pickle\n",
        "\n",
        "from cuml.ensemble import RandomForestClassifier as curfc\n",
        "from cuml.metrics import accuracy_score\n",
        "\n",
        "from sklearn.ensemble import RandomForestClassifier as skrfc\n",
        "from sklearn.datasets import make_classification\n",
        "from sklearn.model_selection import train_test_split"
      ],
      "metadata": {
        "id": "PYMGFNeSLahL"
      },
      "execution_count": 9,
      "outputs": []
    },
    {
      "cell_type": "code",
      "source": [
        "# Replace 'your_file.csv' with the name of your CSV file\n",
        "file_path = 'final_data.csv'\n",
        "\n",
        "# Read the CSV file using pandas\n",
        "df = pd.read_csv(file_path)\n",
        "\n",
        "# Drop unnamed columns\n",
        "unnamed_columns = df.columns[df.columns.str.contains('^Unnamed')]\n",
        "df = df.drop(columns=unnamed_columns)\n",
        "\n",
        "df = df.dropna()\n",
        "\n",
        "df.info()"
      ],
      "metadata": {
        "colab": {
          "base_uri": "https://localhost:8080/"
        },
        "id": "kH0C4MiZWPSV",
        "outputId": "112421f1-a684-4c0c-be19-e27ebaa1779b"
      },
      "execution_count": 10,
      "outputs": [
        {
          "output_type": "stream",
          "name": "stdout",
          "text": [
            "<class 'pandas.core.frame.DataFrame'>\n",
            "Int64Index: 18584 entries, 0 to 19560\n",
            "Data columns (total 28 columns):\n",
            " #   Column                       Non-Null Count  Dtype  \n",
            "---  ------                       --------------  -----  \n",
            " 0   home_matches_played          18584 non-null  int64  \n",
            " 1   home_wins                    18584 non-null  int64  \n",
            " 2   home_win_rate                18584 non-null  float64\n",
            " 3   home_buildUpPlaySpeed        18584 non-null  float64\n",
            " 4   home_buildUpPlayDribbling    18584 non-null  float64\n",
            " 5   home_buildUpPlayPassing      18584 non-null  float64\n",
            " 6   home_chanceCreationPassing   18584 non-null  float64\n",
            " 7   home_chanceCreationCrossing  18584 non-null  float64\n",
            " 8   home_chanceCreationShooting  18584 non-null  float64\n",
            " 9   home_defencePressure         18584 non-null  float64\n",
            " 10  home_defenceAggression       18584 non-null  float64\n",
            " 11  home_defenceTeamWidth        18584 non-null  float64\n",
            " 12  away_matches_played          18584 non-null  int64  \n",
            " 13  away_wins                    18584 non-null  int64  \n",
            " 14  away_win_rate                18584 non-null  float64\n",
            " 15  away_buildUpPlaySpeed        18584 non-null  float64\n",
            " 16  away_buildUpPlayDribbling    18584 non-null  float64\n",
            " 17  away_buildUpPlayPassing      18584 non-null  float64\n",
            " 18  away_chanceCreationPassing   18584 non-null  float64\n",
            " 19  away_chanceCreationCrossing  18584 non-null  float64\n",
            " 20  away_chanceCreationShooting  18584 non-null  float64\n",
            " 21  away_defencePressure         18584 non-null  float64\n",
            " 22  away_defenceAggression       18584 non-null  float64\n",
            " 23  away_defenceTeamWidth        18584 non-null  float64\n",
            " 24  home_win                     18584 non-null  int64  \n",
            " 25  away_win                     18584 non-null  int64  \n",
            " 26  draw                         18584 non-null  int64  \n",
            " 27  avg_betting_odds             18584 non-null  float64\n",
            "dtypes: float64(21), int64(7)\n",
            "memory usage: 4.1 MB\n"
          ]
        }
      ]
    },
    {
      "cell_type": "code",
      "source": [
        "# n_samples = 2*17\n",
        "n_samples = 2**12\n",
        "n_features = 399\n",
        "n_info = 300\n",
        "data_type = np.float32"
      ],
      "metadata": {
        "id": "14zKSmiVaJ6h"
      },
      "execution_count": 11,
      "outputs": []
    },
    {
      "cell_type": "code",
      "source": [
        "predict_columns = ['home_win', 'draw', 'away_win']\n",
        "feature_columns = [col for col in df.columns if col not in predict_columns]\n",
        "\n",
        "X = df[feature_columns]\n",
        "y = pd.DataFrame(np.argmax(df[predict_columns].values, axis=1))"
      ],
      "metadata": {
        "id": "mdvsbXwrXnHY"
      },
      "execution_count": 66,
      "outputs": []
    },
    {
      "cell_type": "markdown",
      "source": [
        "### Local Host"
      ],
      "metadata": {
        "id": "cAsdLdvXaP5N"
      }
    },
    {
      "cell_type": "code",
      "source": [
        "X = cudf.DataFrame(X)\n",
        "y = cudf.DataFrame(y)[0]"
      ],
      "metadata": {
        "id": "4UyHwLgH8FjE"
      },
      "execution_count": 67,
      "outputs": []
    },
    {
      "cell_type": "code",
      "source": [
        "%%time\n",
        "# X = pd.DataFrame(X.astype(data_type))\n",
        "# # cuML Random Forest Classifier requires the labels to be integers\n",
        "# y = pd.Series(y.astype(np.int32))\n",
        "\n",
        "X_cudf, X_cudf_test, y_cudf, y_cudf_test = train_test_split(X, y, test_size = 0.2, random_state=42)"
      ],
      "metadata": {
        "colab": {
          "base_uri": "https://localhost:8080/"
        },
        "id": "JF1eCTQSaOSS",
        "outputId": "e20b5a9b-684b-4668-ad9d-0c26a2cfdd87"
      },
      "execution_count": 69,
      "outputs": [
        {
          "output_type": "stream",
          "name": "stdout",
          "text": [
            "CPU times: user 16.7 ms, sys: 1.04 ms, total: 17.8 ms\n",
            "Wall time: 19.2 ms\n"
          ]
        }
      ]
    },
    {
      "cell_type": "code",
      "source": [
        "# Copy dataset from GPU memory to host memory.\n",
        "# This is done to later compare CPU and GPU results.\n",
        "X_train = X_cudf.to_pandas()\n",
        "X_test = X_cudf_test.to_pandas()\n",
        "y_train = y_cudf.to_pandas()\n",
        "y_test = y_cudf_test.to_pandas()"
      ],
      "metadata": {
        "id": "br0pIk8B9CaO"
      },
      "execution_count": 72,
      "outputs": []
    },
    {
      "cell_type": "markdown",
      "source": [
        "### GPU"
      ],
      "metadata": {
        "id": "EWjvTeVeaUy_"
      }
    },
    {
      "cell_type": "code",
      "source": [
        "# %%time\n",
        "# X_cudf_train = cudf.DataFrame.from_pandas(X_train)\n",
        "# X_cudf_test = cudf.DataFrame.from_pandas(X_test)\n",
        "\n",
        "# y_cudf_train = cudf.Series(y_train.values)"
      ],
      "metadata": {
        "id": "SK8Zr1VVaS3K"
      },
      "execution_count": 60,
      "outputs": []
    },
    {
      "cell_type": "markdown",
      "source": [
        "# Random Forest"
      ],
      "metadata": {
        "id": "aFrMyi6kbVah"
      }
    },
    {
      "cell_type": "markdown",
      "source": [
        "### Fit Model"
      ],
      "metadata": {
        "id": "Coy5G-tUaZej"
      }
    },
    {
      "cell_type": "code",
      "source": [
        "# fit sklearn RandomForest\n",
        "%%time\n",
        "sk_model = skrfc(n_estimators=40,\n",
        "                 max_depth=16,\n",
        "                 max_features=1.0,\n",
        "                 random_state=10)\n",
        "\n",
        "sk_model.fit(X_train, y_train)"
      ],
      "metadata": {
        "colab": {
          "base_uri": "https://localhost:8080/",
          "height": 129
        },
        "id": "fvgHSY5BabYy",
        "outputId": "bfab93dd-1137-4697-810a-db6557f8d6af"
      },
      "execution_count": 73,
      "outputs": [
        {
          "output_type": "stream",
          "name": "stdout",
          "text": [
            "CPU times: user 5.73 s, sys: 20.1 ms, total: 5.75 s\n",
            "Wall time: 5.93 s\n"
          ]
        },
        {
          "output_type": "execute_result",
          "data": {
            "text/plain": [
              "RandomForestClassifier(max_depth=16, max_features=1.0, n_estimators=40,\n",
              "                       random_state=10)"
            ],
            "text/html": [
              "<style>#sk-container-id-4 {color: black;background-color: white;}#sk-container-id-4 pre{padding: 0;}#sk-container-id-4 div.sk-toggleable {background-color: white;}#sk-container-id-4 label.sk-toggleable__label {cursor: pointer;display: block;width: 100%;margin-bottom: 0;padding: 0.3em;box-sizing: border-box;text-align: center;}#sk-container-id-4 label.sk-toggleable__label-arrow:before {content: \"▸\";float: left;margin-right: 0.25em;color: #696969;}#sk-container-id-4 label.sk-toggleable__label-arrow:hover:before {color: black;}#sk-container-id-4 div.sk-estimator:hover label.sk-toggleable__label-arrow:before {color: black;}#sk-container-id-4 div.sk-toggleable__content {max-height: 0;max-width: 0;overflow: hidden;text-align: left;background-color: #f0f8ff;}#sk-container-id-4 div.sk-toggleable__content pre {margin: 0.2em;color: black;border-radius: 0.25em;background-color: #f0f8ff;}#sk-container-id-4 input.sk-toggleable__control:checked~div.sk-toggleable__content {max-height: 200px;max-width: 100%;overflow: auto;}#sk-container-id-4 input.sk-toggleable__control:checked~label.sk-toggleable__label-arrow:before {content: \"▾\";}#sk-container-id-4 div.sk-estimator input.sk-toggleable__control:checked~label.sk-toggleable__label {background-color: #d4ebff;}#sk-container-id-4 div.sk-label input.sk-toggleable__control:checked~label.sk-toggleable__label {background-color: #d4ebff;}#sk-container-id-4 input.sk-hidden--visually {border: 0;clip: rect(1px 1px 1px 1px);clip: rect(1px, 1px, 1px, 1px);height: 1px;margin: -1px;overflow: hidden;padding: 0;position: absolute;width: 1px;}#sk-container-id-4 div.sk-estimator {font-family: monospace;background-color: #f0f8ff;border: 1px dotted black;border-radius: 0.25em;box-sizing: border-box;margin-bottom: 0.5em;}#sk-container-id-4 div.sk-estimator:hover {background-color: #d4ebff;}#sk-container-id-4 div.sk-parallel-item::after {content: \"\";width: 100%;border-bottom: 1px solid gray;flex-grow: 1;}#sk-container-id-4 div.sk-label:hover label.sk-toggleable__label {background-color: #d4ebff;}#sk-container-id-4 div.sk-serial::before {content: \"\";position: absolute;border-left: 1px solid gray;box-sizing: border-box;top: 0;bottom: 0;left: 50%;z-index: 0;}#sk-container-id-4 div.sk-serial {display: flex;flex-direction: column;align-items: center;background-color: white;padding-right: 0.2em;padding-left: 0.2em;position: relative;}#sk-container-id-4 div.sk-item {position: relative;z-index: 1;}#sk-container-id-4 div.sk-parallel {display: flex;align-items: stretch;justify-content: center;background-color: white;position: relative;}#sk-container-id-4 div.sk-item::before, #sk-container-id-4 div.sk-parallel-item::before {content: \"\";position: absolute;border-left: 1px solid gray;box-sizing: border-box;top: 0;bottom: 0;left: 50%;z-index: -1;}#sk-container-id-4 div.sk-parallel-item {display: flex;flex-direction: column;z-index: 1;position: relative;background-color: white;}#sk-container-id-4 div.sk-parallel-item:first-child::after {align-self: flex-end;width: 50%;}#sk-container-id-4 div.sk-parallel-item:last-child::after {align-self: flex-start;width: 50%;}#sk-container-id-4 div.sk-parallel-item:only-child::after {width: 0;}#sk-container-id-4 div.sk-dashed-wrapped {border: 1px dashed gray;margin: 0 0.4em 0.5em 0.4em;box-sizing: border-box;padding-bottom: 0.4em;background-color: white;}#sk-container-id-4 div.sk-label label {font-family: monospace;font-weight: bold;display: inline-block;line-height: 1.2em;}#sk-container-id-4 div.sk-label-container {text-align: center;}#sk-container-id-4 div.sk-container {/* jupyter's `normalize.less` sets `[hidden] { display: none; }` but bootstrap.min.css set `[hidden] { display: none !important; }` so we also need the `!important` here to be able to override the default hidden behavior on the sphinx rendered scikit-learn.org. See: https://github.com/scikit-learn/scikit-learn/issues/21755 */display: inline-block !important;position: relative;}#sk-container-id-4 div.sk-text-repr-fallback {display: none;}</style><div id=\"sk-container-id-4\" class=\"sk-top-container\"><div class=\"sk-text-repr-fallback\"><pre>RandomForestClassifier(max_depth=16, max_features=1.0, n_estimators=40,\n",
              "                       random_state=10)</pre><b>In a Jupyter environment, please rerun this cell to show the HTML representation or trust the notebook. <br />On GitHub, the HTML representation is unable to render, please try loading this page with nbviewer.org.</b></div><div class=\"sk-container\" hidden><div class=\"sk-item\"><div class=\"sk-estimator sk-toggleable\"><input class=\"sk-toggleable__control sk-hidden--visually\" id=\"sk-estimator-id-4\" type=\"checkbox\" checked><label for=\"sk-estimator-id-4\" class=\"sk-toggleable__label sk-toggleable__label-arrow\">RandomForestClassifier</label><div class=\"sk-toggleable__content\"><pre>RandomForestClassifier(max_depth=16, max_features=1.0, n_estimators=40,\n",
              "                       random_state=10)</pre></div></div></div></div></div>"
            ]
          },
          "metadata": {},
          "execution_count": 73
        }
      ]
    },
    {
      "cell_type": "code",
      "source": [
        "# evaluate\n",
        "%%time\n",
        "sk_predict = sk_model.predict(X_test)\n",
        "sk_acc = accuracy_score(y_test, sk_predict)"
      ],
      "metadata": {
        "colab": {
          "base_uri": "https://localhost:8080/"
        },
        "id": "iEhgF1vaanOu",
        "outputId": "c83c03dd-20f4-403d-99d8-a8970b20d422"
      },
      "execution_count": 74,
      "outputs": [
        {
          "output_type": "stream",
          "name": "stdout",
          "text": [
            "CPU times: user 57.5 ms, sys: 880 µs, total: 58.4 ms\n",
            "Wall time: 60.5 ms\n"
          ]
        }
      ]
    },
    {
      "cell_type": "code",
      "source": [
        "# cuML RandomForest\n",
        "%%time\n",
        "cuml_model = curfc(n_estimators=40,\n",
        "                   max_depth=16,\n",
        "                   max_features=1.0,\n",
        "                   random_state=10)\n",
        "\n",
        "cuml_model.fit(X_train, y_train)"
      ],
      "metadata": {
        "colab": {
          "base_uri": "https://localhost:8080/"
        },
        "id": "f6eGFYUvaj5i",
        "outputId": "d816726e-ece4-464a-cf0e-e4b537f5482b"
      },
      "execution_count": 75,
      "outputs": [
        {
          "output_type": "stream",
          "name": "stderr",
          "text": [
            "/usr/local/lib/python3.10/site-packages/cuml/internals/api_decorators.py:344: UserWarning: For reproducible results in Random Forest Classifier or for almost reproducible results in Random Forest Regressor, n_streams=1 is recommended. If n_streams is > 1, results may vary due to stream/thread timing differences, even when random_state is set\n",
            "  return func(**kwargs)\n",
            "/usr/local/lib/python3.10/site-packages/cuml/internals/api_decorators.py:188: UserWarning: To use pickling first train using float32 data to fit the estimator\n",
            "  ret = func(*args, **kwargs)\n"
          ]
        },
        {
          "output_type": "stream",
          "name": "stdout",
          "text": [
            "CPU times: user 297 ms, sys: 232 ms, total: 529 ms\n",
            "Wall time: 535 ms\n"
          ]
        },
        {
          "output_type": "execute_result",
          "data": {
            "text/plain": [
              "RandomForestClassifier()"
            ]
          },
          "metadata": {},
          "execution_count": 75
        }
      ]
    },
    {
      "cell_type": "code",
      "source": [
        "# evaluate\n",
        "%%time\n",
        "fil_preds_orig = cuml_model.predict(X_cudf_test)\n",
        "\n",
        "fil_acc_orig = accuracy_score(y_test.to_numpy(), fil_preds_orig)"
      ],
      "metadata": {
        "colab": {
          "base_uri": "https://localhost:8080/"
        },
        "id": "EqenfdToas9P",
        "outputId": "77fedfd7-9596-474b-8f76-1cbc40fa3622"
      },
      "execution_count": 76,
      "outputs": [
        {
          "output_type": "stream",
          "name": "stdout",
          "text": [
            "CPU times: user 1.07 s, sys: 119 ms, total: 1.19 s\n",
            "Wall time: 1.12 s\n"
          ]
        }
      ]
    },
    {
      "cell_type": "markdown",
      "source": [
        "### Pickle cuML random forest classification model"
      ],
      "metadata": {
        "id": "l9TkUlsGa-b7"
      }
    },
    {
      "cell_type": "code",
      "source": [
        "filename = 'cuml_random_forest_model.sav'\n",
        "# save the trained cuml model into a file\n",
        "pickle.dump(cuml_model, open(filename, 'wb'))\n",
        "# delete the previous model to ensure that there is no leakage of pointers.\n",
        "# this is not strictly necessary but just included here for demo purposes.\n",
        "del cuml_model\n",
        "# load the previously saved cuml model from a file\n",
        "pickled_cuml_model = pickle.load(open(filename, 'rb'))"
      ],
      "metadata": {
        "id": "MoQOWsYDa7Gx"
      },
      "execution_count": 77,
      "outputs": []
    },
    {
      "cell_type": "code",
      "source": [
        "# predict using the pickled model\n",
        "%%time\n",
        "pred_after_pickling = pickled_cuml_model.predict(X_cudf_test)\n",
        "\n",
        "fil_acc_after_pickling = accuracy_score(y_test.to_numpy(), pred_after_pickling)"
      ],
      "metadata": {
        "colab": {
          "base_uri": "https://localhost:8080/"
        },
        "id": "hOIA5Xp-bJ52",
        "outputId": "2fab4821-9b10-4404-e6bd-ea7dd2ff04e7"
      },
      "execution_count": 78,
      "outputs": [
        {
          "output_type": "stream",
          "name": "stdout",
          "text": [
            "CPU times: user 256 ms, sys: 128 ms, total: 385 ms\n",
            "Wall time: 394 ms\n"
          ]
        }
      ]
    },
    {
      "cell_type": "markdown",
      "source": [
        "### Compare Results"
      ],
      "metadata": {
        "id": "9hOPpYmobE18"
      }
    },
    {
      "cell_type": "code",
      "source": [
        "print(\"CUML accuracy of the RF model before pickling: %s\" % fil_acc_orig)\n",
        "print(\"CUML accuracy of the RF model after pickling: %s\" % fil_acc_after_pickling)"
      ],
      "metadata": {
        "colab": {
          "base_uri": "https://localhost:8080/"
        },
        "id": "pe1N21jabDL6",
        "outputId": "0216a546-4209-4be8-ac70-8d3d35b179ad"
      },
      "execution_count": 79,
      "outputs": [
        {
          "output_type": "stream",
          "name": "stdout",
          "text": [
            "CUML accuracy of the RF model before pickling: 0.4784714877605438\n",
            "CUML accuracy of the RF model after pickling: 0.4784714877605438\n"
          ]
        }
      ]
    },
    {
      "cell_type": "code",
      "source": [
        "print(\"SKL accuracy: %s\" % sk_acc)\n",
        "print(\"CUML accuracy before pickling: %s\" % fil_acc_orig)"
      ],
      "metadata": {
        "colab": {
          "base_uri": "https://localhost:8080/"
        },
        "id": "9dFSluNEbHh3",
        "outputId": "5f261bfe-9ef4-475e-c6f5-d9d948c26aa0"
      },
      "execution_count": 80,
      "outputs": [
        {
          "output_type": "stream",
          "name": "stdout",
          "text": [
            "SKL accuracy: 0.48493003845214844\n",
            "CUML accuracy before pickling: 0.4784714877605438\n"
          ]
        }
      ]
    },
    {
      "cell_type": "markdown",
      "source": [
        "# Linear Regression"
      ],
      "metadata": {
        "id": "bYq2s4Z9bZ3e"
      }
    },
    {
      "cell_type": "code",
      "source": [
        "import cudf\n",
        "from cuml import make_regression, train_test_split\n",
        "from cuml.linear_model import LinearRegression as cuLinearRegression\n",
        "from cuml.metrics.regression import r2_score\n",
        "from sklearn.linear_model import LinearRegression as skLinearRegression"
      ],
      "metadata": {
        "id": "DV3OjORtbbKo"
      },
      "execution_count": 81,
      "outputs": []
    },
    {
      "cell_type": "code",
      "source": [
        "%%time\n",
        "X = cudf.DataFrame(X)\n",
        "y = cudf.DataFrame(y)[0]\n",
        "\n",
        "X_cudf, X_cudf_test, y_cudf, y_cudf_test = train_test_split(X, y, test_size = 0.2, random_state=42)"
      ],
      "metadata": {
        "colab": {
          "base_uri": "https://localhost:8080/"
        },
        "id": "hFYCxjoycvot",
        "outputId": "be7ffba8-4f30-434d-89e6-352bf574c734"
      },
      "execution_count": 83,
      "outputs": [
        {
          "output_type": "stream",
          "name": "stdout",
          "text": [
            "CPU times: user 20.1 ms, sys: 3.87 ms, total: 24 ms\n",
            "Wall time: 52.8 ms\n"
          ]
        }
      ]
    },
    {
      "cell_type": "code",
      "source": [
        "# Copy dataset from GPU memory to host memory.\n",
        "# This is done to later compare CPU and GPU results.\n",
        "X_train = X_cudf.to_pandas()\n",
        "X_test = X_cudf_test.to_pandas()\n",
        "y_train = y_cudf.to_pandas()\n",
        "y_test = y_cudf_test.to_pandas()"
      ],
      "metadata": {
        "id": "lpphtAuNczbX"
      },
      "execution_count": 84,
      "outputs": []
    },
    {
      "cell_type": "markdown",
      "source": [
        "## Scikit-learn Model"
      ],
      "metadata": {
        "id": "Z63D27vKb7Pt"
      }
    },
    {
      "cell_type": "markdown",
      "source": [
        "### Fit Model"
      ],
      "metadata": {
        "id": "Nc-zbcXgcE7Y"
      }
    },
    {
      "cell_type": "code",
      "source": [
        "%%time\n",
        "ols_sk = skLinearRegression(fit_intercept=True,\n",
        "                            n_jobs=-1)\n",
        "\n",
        "ols_sk.fit(X_train, y_train)"
      ],
      "metadata": {
        "colab": {
          "base_uri": "https://localhost:8080/",
          "height": 112
        },
        "id": "cJieSd0_b5bW",
        "outputId": "49ffa79c-eb6a-4adf-c44b-4fa888c3b830"
      },
      "execution_count": 85,
      "outputs": [
        {
          "output_type": "stream",
          "name": "stdout",
          "text": [
            "CPU times: user 20.8 ms, sys: 5.96 ms, total: 26.7 ms\n",
            "Wall time: 32.6 ms\n"
          ]
        },
        {
          "output_type": "execute_result",
          "data": {
            "text/plain": [
              "LinearRegression(n_jobs=-1)"
            ],
            "text/html": [
              "<style>#sk-container-id-5 {color: black;background-color: white;}#sk-container-id-5 pre{padding: 0;}#sk-container-id-5 div.sk-toggleable {background-color: white;}#sk-container-id-5 label.sk-toggleable__label {cursor: pointer;display: block;width: 100%;margin-bottom: 0;padding: 0.3em;box-sizing: border-box;text-align: center;}#sk-container-id-5 label.sk-toggleable__label-arrow:before {content: \"▸\";float: left;margin-right: 0.25em;color: #696969;}#sk-container-id-5 label.sk-toggleable__label-arrow:hover:before {color: black;}#sk-container-id-5 div.sk-estimator:hover label.sk-toggleable__label-arrow:before {color: black;}#sk-container-id-5 div.sk-toggleable__content {max-height: 0;max-width: 0;overflow: hidden;text-align: left;background-color: #f0f8ff;}#sk-container-id-5 div.sk-toggleable__content pre {margin: 0.2em;color: black;border-radius: 0.25em;background-color: #f0f8ff;}#sk-container-id-5 input.sk-toggleable__control:checked~div.sk-toggleable__content {max-height: 200px;max-width: 100%;overflow: auto;}#sk-container-id-5 input.sk-toggleable__control:checked~label.sk-toggleable__label-arrow:before {content: \"▾\";}#sk-container-id-5 div.sk-estimator input.sk-toggleable__control:checked~label.sk-toggleable__label {background-color: #d4ebff;}#sk-container-id-5 div.sk-label input.sk-toggleable__control:checked~label.sk-toggleable__label {background-color: #d4ebff;}#sk-container-id-5 input.sk-hidden--visually {border: 0;clip: rect(1px 1px 1px 1px);clip: rect(1px, 1px, 1px, 1px);height: 1px;margin: -1px;overflow: hidden;padding: 0;position: absolute;width: 1px;}#sk-container-id-5 div.sk-estimator {font-family: monospace;background-color: #f0f8ff;border: 1px dotted black;border-radius: 0.25em;box-sizing: border-box;margin-bottom: 0.5em;}#sk-container-id-5 div.sk-estimator:hover {background-color: #d4ebff;}#sk-container-id-5 div.sk-parallel-item::after {content: \"\";width: 100%;border-bottom: 1px solid gray;flex-grow: 1;}#sk-container-id-5 div.sk-label:hover label.sk-toggleable__label {background-color: #d4ebff;}#sk-container-id-5 div.sk-serial::before {content: \"\";position: absolute;border-left: 1px solid gray;box-sizing: border-box;top: 0;bottom: 0;left: 50%;z-index: 0;}#sk-container-id-5 div.sk-serial {display: flex;flex-direction: column;align-items: center;background-color: white;padding-right: 0.2em;padding-left: 0.2em;position: relative;}#sk-container-id-5 div.sk-item {position: relative;z-index: 1;}#sk-container-id-5 div.sk-parallel {display: flex;align-items: stretch;justify-content: center;background-color: white;position: relative;}#sk-container-id-5 div.sk-item::before, #sk-container-id-5 div.sk-parallel-item::before {content: \"\";position: absolute;border-left: 1px solid gray;box-sizing: border-box;top: 0;bottom: 0;left: 50%;z-index: -1;}#sk-container-id-5 div.sk-parallel-item {display: flex;flex-direction: column;z-index: 1;position: relative;background-color: white;}#sk-container-id-5 div.sk-parallel-item:first-child::after {align-self: flex-end;width: 50%;}#sk-container-id-5 div.sk-parallel-item:last-child::after {align-self: flex-start;width: 50%;}#sk-container-id-5 div.sk-parallel-item:only-child::after {width: 0;}#sk-container-id-5 div.sk-dashed-wrapped {border: 1px dashed gray;margin: 0 0.4em 0.5em 0.4em;box-sizing: border-box;padding-bottom: 0.4em;background-color: white;}#sk-container-id-5 div.sk-label label {font-family: monospace;font-weight: bold;display: inline-block;line-height: 1.2em;}#sk-container-id-5 div.sk-label-container {text-align: center;}#sk-container-id-5 div.sk-container {/* jupyter's `normalize.less` sets `[hidden] { display: none; }` but bootstrap.min.css set `[hidden] { display: none !important; }` so we also need the `!important` here to be able to override the default hidden behavior on the sphinx rendered scikit-learn.org. See: https://github.com/scikit-learn/scikit-learn/issues/21755 */display: inline-block !important;position: relative;}#sk-container-id-5 div.sk-text-repr-fallback {display: none;}</style><div id=\"sk-container-id-5\" class=\"sk-top-container\"><div class=\"sk-text-repr-fallback\"><pre>LinearRegression(n_jobs=-1)</pre><b>In a Jupyter environment, please rerun this cell to show the HTML representation or trust the notebook. <br />On GitHub, the HTML representation is unable to render, please try loading this page with nbviewer.org.</b></div><div class=\"sk-container\" hidden><div class=\"sk-item\"><div class=\"sk-estimator sk-toggleable\"><input class=\"sk-toggleable__control sk-hidden--visually\" id=\"sk-estimator-id-5\" type=\"checkbox\" checked><label for=\"sk-estimator-id-5\" class=\"sk-toggleable__label sk-toggleable__label-arrow\">LinearRegression</label><div class=\"sk-toggleable__content\"><pre>LinearRegression(n_jobs=-1)</pre></div></div></div></div></div>"
            ]
          },
          "metadata": {},
          "execution_count": 85
        }
      ]
    },
    {
      "cell_type": "markdown",
      "source": [
        "### Predict"
      ],
      "metadata": {
        "id": "CkM7pDOFcK8m"
      }
    },
    {
      "cell_type": "code",
      "source": [
        "%%time\n",
        "predict_sk = ols_sk.predict(X_test)"
      ],
      "metadata": {
        "colab": {
          "base_uri": "https://localhost:8080/"
        },
        "id": "b14kCNjEcJvq",
        "outputId": "a382fa7a-e1a0-4012-94a3-0e99c24dcb5a"
      },
      "execution_count": 86,
      "outputs": [
        {
          "output_type": "stream",
          "name": "stdout",
          "text": [
            "CPU times: user 3.42 ms, sys: 3.01 ms, total: 6.44 ms\n",
            "Wall time: 6.52 ms\n"
          ]
        }
      ]
    },
    {
      "cell_type": "markdown",
      "source": [
        "### Evaluate"
      ],
      "metadata": {
        "id": "jagKna7ZcTL2"
      }
    },
    {
      "cell_type": "code",
      "source": [
        "%%time\n",
        "acc_sk_linreg = accuracy_score(y_test, predict_sk)"
      ],
      "metadata": {
        "colab": {
          "base_uri": "https://localhost:8080/"
        },
        "id": "XjNN8hnw7cmB",
        "outputId": "7e7ac9ec-1b16-40d3-da89-2df522f8f6b7"
      },
      "execution_count": 87,
      "outputs": [
        {
          "output_type": "stream",
          "name": "stdout",
          "text": [
            "CPU times: user 3.03 ms, sys: 3 µs, total: 3.03 ms\n",
            "Wall time: 3.04 ms\n"
          ]
        }
      ]
    },
    {
      "cell_type": "markdown",
      "source": [
        "## cuML Model"
      ],
      "metadata": {
        "id": "I1i11HMyewMg"
      }
    },
    {
      "cell_type": "markdown",
      "source": [
        "### Fit Model"
      ],
      "metadata": {
        "id": "DdTrg37we3PK"
      }
    },
    {
      "cell_type": "code",
      "source": [
        "%%time\n",
        "ols_cuml = cuLinearRegression(fit_intercept=True,\n",
        "                              algorithm='eig')\n",
        "\n",
        "ols_cuml.fit(X_cudf, y_cudf)"
      ],
      "metadata": {
        "colab": {
          "base_uri": "https://localhost:8080/"
        },
        "id": "gmzV9rzMey1M",
        "outputId": "673fa77d-4b72-4907-92cf-353b0aac3fe1"
      },
      "execution_count": 88,
      "outputs": [
        {
          "output_type": "stream",
          "name": "stdout",
          "text": [
            "CPU times: user 216 ms, sys: 3.99 ms, total: 220 ms\n",
            "Wall time: 219 ms\n"
          ]
        },
        {
          "output_type": "execute_result",
          "data": {
            "text/plain": [
              "LinearRegression()"
            ]
          },
          "metadata": {},
          "execution_count": 88
        }
      ]
    },
    {
      "cell_type": "markdown",
      "source": [
        "### Predict"
      ],
      "metadata": {
        "id": "cDVvw7xWe6ne"
      }
    },
    {
      "cell_type": "code",
      "source": [
        "%%time\n",
        "predict_cuml = ols_cuml.predict(X_cudf_test)"
      ],
      "metadata": {
        "colab": {
          "base_uri": "https://localhost:8080/"
        },
        "id": "ZvmbKvY0e71J",
        "outputId": "680e8896-00a7-4292-ff0b-6baa5d229139"
      },
      "execution_count": 89,
      "outputs": [
        {
          "output_type": "stream",
          "name": "stdout",
          "text": [
            "CPU times: user 8.63 ms, sys: 44 µs, total: 8.68 ms\n",
            "Wall time: 9.86 ms\n"
          ]
        }
      ]
    },
    {
      "cell_type": "markdown",
      "source": [
        "### Evaluate"
      ],
      "metadata": {
        "id": "i3SIJyGCe9WN"
      }
    },
    {
      "cell_type": "code",
      "source": [
        "%%time\n",
        "acc_origin_linreg = accuracy_score(y_cudf_test.to_numpy(), predict_cuml)"
      ],
      "metadata": {
        "colab": {
          "base_uri": "https://localhost:8080/"
        },
        "id": "ZX1K9mgXe-cN",
        "outputId": "9bf078b0-705b-4163-fda5-a8f9f5afce2e"
      },
      "execution_count": 90,
      "outputs": [
        {
          "output_type": "stream",
          "name": "stdout",
          "text": [
            "CPU times: user 4.18 ms, sys: 0 ns, total: 4.18 ms\n",
            "Wall time: 4.24 ms\n"
          ]
        }
      ]
    },
    {
      "cell_type": "markdown",
      "source": [
        "## Pickle Linear Regression Model"
      ],
      "metadata": {
        "id": "zHAKs07qfjer"
      }
    },
    {
      "cell_type": "code",
      "source": [
        "filename = 'cuml_linear_regression_model.sav'\n",
        "# save the trained cuml model into a file\n",
        "pickle.dump(ols_cuml, open(filename, 'wb'))\n",
        "# delete the previous model to ensure that there is no leakage of pointers.\n",
        "# this is not strictly necessary but just included here for demo purposes.\n",
        "del ols_cuml\n",
        "# load the previously saved cuml model from a file\n",
        "pickled_cuml_model = pickle.load(open(filename, 'rb'))"
      ],
      "metadata": {
        "id": "jzF2MVe_fl1o"
      },
      "execution_count": 91,
      "outputs": []
    },
    {
      "cell_type": "code",
      "source": [
        "# predict using the pickled model\n",
        "%%time\n",
        "pred_after_pickling = pickled_cuml_model.predict(X_cudf_test)\n",
        "\n",
        "fil_acc_after_pickling = accuracy_score(y_test.to_numpy(), pred_after_pickling)"
      ],
      "metadata": {
        "colab": {
          "base_uri": "https://localhost:8080/"
        },
        "id": "0qQKxt2Ff4Ze",
        "outputId": "0f26ae00-e4fb-4526-885f-ed88b95fea88"
      },
      "execution_count": 92,
      "outputs": [
        {
          "output_type": "stream",
          "name": "stdout",
          "text": [
            "CPU times: user 10.1 ms, sys: 951 µs, total: 11 ms\n",
            "Wall time: 15.3 ms\n"
          ]
        }
      ]
    },
    {
      "cell_type": "markdown",
      "source": [
        "### Compare Results"
      ],
      "metadata": {
        "id": "2gU5jnc2gAZ7"
      }
    },
    {
      "cell_type": "code",
      "source": [
        "print(\"CUML accuracy of the RF model before pickling: %s\" % acc_origin_linreg)\n",
        "print(\"CUML accuracy of the RF model after pickling: %s\" % fil_acc_after_pickling)"
      ],
      "metadata": {
        "colab": {
          "base_uri": "https://localhost:8080/"
        },
        "outputId": "1a56e548-0257-4c59-ad36-6fcbe7e94224",
        "id": "s0Lhx3PQgAZ7"
      },
      "execution_count": 93,
      "outputs": [
        {
          "output_type": "stream",
          "name": "stdout",
          "text": [
            "CUML accuracy of the RF model before pickling: 0.47416576743125916\n",
            "CUML accuracy of the RF model after pickling: 0.47416576743125916\n"
          ]
        }
      ]
    },
    {
      "cell_type": "code",
      "source": [
        "print(\"SKL accuracy: %s\" % acc_sk_linreg)\n",
        "print(\"CUML accuracy before pickling: %s\" % acc_origin_linreg)"
      ],
      "metadata": {
        "colab": {
          "base_uri": "https://localhost:8080/"
        },
        "outputId": "557c1c20-ccbd-4491-c94b-5ed2aca99f93",
        "id": "m2anhxXKgAZ7"
      },
      "execution_count": 94,
      "outputs": [
        {
          "output_type": "stream",
          "name": "stdout",
          "text": [
            "SKL accuracy: 0.47416576743125916\n",
            "CUML accuracy before pickling: 0.47416576743125916\n"
          ]
        }
      ]
    },
    {
      "cell_type": "markdown",
      "source": [
        "# SVC"
      ],
      "metadata": {
        "id": "ecNdD0yqdI3X"
      }
    },
    {
      "cell_type": "code",
      "source": [
        "import cudf\n",
        "import numpy as np\n",
        "from cuml.metrics import accuracy_score\n",
        "from cuml.svm import SVC as cumlSVC\n",
        "from sklearn.svm import SVC as skSVC"
      ],
      "metadata": {
        "id": "hecYX9VEdxCL"
      },
      "execution_count": 95,
      "outputs": []
    },
    {
      "cell_type": "markdown",
      "source": [
        "## Scikit-learn Model"
      ],
      "metadata": {
        "id": "UA83DOAdhNt5"
      }
    },
    {
      "cell_type": "markdown",
      "source": [
        "### Fit Model"
      ],
      "metadata": {
        "id": "8HTj7bV5ztKa"
      }
    },
    {
      "cell_type": "code",
      "source": [
        "%%time\n",
        "sk_svc = skSVC(kernel='poly', degree=2, gamma='auto', C=1)\n",
        "sk_svc.fit(X_train, y_train)"
      ],
      "metadata": {
        "id": "H6ATIXrjkfDy"
      },
      "execution_count": null,
      "outputs": []
    },
    {
      "cell_type": "markdown",
      "source": [
        "### Predict"
      ],
      "metadata": {
        "id": "_q8NXmIVz2zu"
      }
    },
    {
      "cell_type": "code",
      "source": [
        "%%time\n",
        "predict_sk_svc = sk_svc.predict(X_test)\n",
        "predict_sk_svc.tail()"
      ],
      "metadata": {
        "id": "wbQ1ekk1z4Iw"
      },
      "execution_count": null,
      "outputs": []
    },
    {
      "cell_type": "markdown",
      "source": [
        "### Evaluate"
      ],
      "metadata": {
        "id": "r5nCWYxA0OKu"
      }
    },
    {
      "cell_type": "code",
      "source": [
        "%%time\n",
        "acc_sk_svc = accuracy_score(y_test, predict_sk_svc)"
      ],
      "metadata": {
        "id": "QCn_PgDo0PVD"
      },
      "execution_count": null,
      "outputs": []
    },
    {
      "cell_type": "markdown",
      "source": [
        "## cuML Model"
      ],
      "metadata": {
        "id": "ykvcvqsEhorR"
      }
    },
    {
      "cell_type": "markdown",
      "source": [
        "### Fit Model"
      ],
      "metadata": {
        "id": "keVPQNC6zA42"
      }
    },
    {
      "cell_type": "code",
      "source": [
        "%%time\n",
        "cuml_svc = cumlSVC(kernel='poly', degree=2, gamma='auto', C=1)\n",
        "cuml_svc.fit(X_train, y_train)"
      ],
      "metadata": {
        "id": "0cdsunzUyNPk"
      },
      "execution_count": null,
      "outputs": []
    },
    {
      "cell_type": "markdown",
      "source": [
        "### Predict"
      ],
      "metadata": {
        "id": "xh2sa-CozO3Z"
      }
    },
    {
      "cell_type": "code",
      "source": [
        "%%time\n",
        "predict_cuml_svc = cuml_svc.predict(X_test)\n",
        "predict_cuml_svc.tail()"
      ],
      "metadata": {
        "id": "M5e11SQtlGgF"
      },
      "execution_count": null,
      "outputs": []
    },
    {
      "cell_type": "markdown",
      "source": [
        "### Evaluate"
      ],
      "metadata": {
        "id": "t3yDJw-VzRnx"
      }
    },
    {
      "cell_type": "code",
      "source": [
        "%%time\n",
        "acc_origin_svc = accuracy_score(y_test, predict_cuml_svc)"
      ],
      "metadata": {
        "id": "6kxTrNoRzTAJ"
      },
      "execution_count": null,
      "outputs": []
    },
    {
      "cell_type": "markdown",
      "source": [
        "## Pickle SVC Model"
      ],
      "metadata": {
        "id": "hKz1ec060mj7"
      }
    },
    {
      "cell_type": "code",
      "source": [
        "filename = 'cuml_svc_model.sav'\n",
        "# save the trained cuml model into a file\n",
        "pickle.dump(cuml_svc, open(filename, 'wb'))\n",
        "# delete the previous model to ensure that there is no leakage of pointers.\n",
        "# this is not strictly necessary but just included here for demo purposes.\n",
        "del cuml_svc\n",
        "# load the previously saved cuml model from a file\n",
        "pickled_cuml_model = pickle.load(open(filename, 'rb'))"
      ],
      "metadata": {
        "id": "u9vDHoeU0oKi"
      },
      "execution_count": null,
      "outputs": []
    },
    {
      "cell_type": "code",
      "source": [
        "# predict using the pickled model\n",
        "%%time\n",
        "pred_after_pickling_svc = pickled_cuml_model.predict(X_test)\n",
        "\n",
        "fil_acc_after_pickling_svc = accuracy_score(y_test.to_numpy(), pred_after_pickling_svc)"
      ],
      "metadata": {
        "id": "uFM1lLOQ02Qj"
      },
      "execution_count": null,
      "outputs": []
    },
    {
      "cell_type": "markdown",
      "source": [
        "### Compare Results"
      ],
      "metadata": {
        "id": "an-rMrqO1Fgz"
      }
    },
    {
      "cell_type": "code",
      "source": [
        "print(\"CUML accuracy of the RF model before pickling: %s\" % acc_origin_svc)\n",
        "print(\"CUML accuracy of the RF model after pickling: %s\" % fil_acc_after_pickling_svc)"
      ],
      "metadata": {
        "id": "xs_ihGXd1Fgz"
      },
      "execution_count": null,
      "outputs": []
    },
    {
      "cell_type": "code",
      "source": [
        "print(\"SKL accuracy: %s\" % acc_sk_svc)\n",
        "print(\"CUML accuracy before pickling: %s\" % acc_origin_svc)"
      ],
      "metadata": {
        "id": "Pb4DRB_31Fg0"
      },
      "execution_count": null,
      "outputs": []
    }
  ]
}
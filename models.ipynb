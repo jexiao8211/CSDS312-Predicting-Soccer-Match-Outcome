{
  "nbformat": 4,
  "nbformat_minor": 0,
  "metadata": {
    "colab": {
      "provenance": [],
      "authorship_tag": "ABX9TyOf23+YffNAyo6bxbhVjtDG",
      "include_colab_link": true
    },
    "kernelspec": {
      "name": "python3",
      "display_name": "Python 3"
    },
    "language_info": {
      "name": "python"
    },
    "accelerator": "GPU",
    "gpuClass": "standard"
  },
  "cells": [
    {
      "cell_type": "markdown",
      "metadata": {
        "id": "view-in-github",
        "colab_type": "text"
      },
      "source": [
        "<a href=\"https://colab.research.google.com/github/jexiao8211/CSDS312-FINAL-PROJECT/blob/main/models.ipynb\" target=\"_parent\"><img src=\"https://colab.research.google.com/assets/colab-badge.svg\" alt=\"Open In Colab\"/></a>"
      ]
    },
    {
      "cell_type": "code",
      "execution_count": 2,
      "metadata": {
        "colab": {
          "base_uri": "https://localhost:8080/"
        },
        "id": "7NF5reFnK8IU",
        "outputId": "de56b1e9-9c9c-46f7-d80b-d838c75c1932"
      },
      "outputs": [
        {
          "output_type": "stream",
          "name": "stdout",
          "text": [
            "nvcc: NVIDIA (R) Cuda compiler driver\n",
            "Copyright (c) 2005-2022 NVIDIA Corporation\n",
            "Built on Wed_Sep_21_10:33:58_PDT_2022\n",
            "Cuda compilation tools, release 11.8, V11.8.89\n",
            "Build cuda_11.8.r11.8/compiler.31833905_0\n",
            "/usr/local/cuda/bin/nvcc\n"
          ]
        }
      ],
      "source": [
        "!nvcc -V && which nvcc"
      ]
    },
    {
      "cell_type": "code",
      "source": [
        "!nvidia-smi"
      ],
      "metadata": {
        "colab": {
          "base_uri": "https://localhost:8080/"
        },
        "id": "ft_Q5XtdLBvf",
        "outputId": "39673dfa-2163-4b92-bd37-8a45ca38947b"
      },
      "execution_count": 4,
      "outputs": [
        {
          "output_type": "stream",
          "name": "stdout",
          "text": [
            "Mon May  1 03:12:10 2023       \n",
            "+-----------------------------------------------------------------------------+\n",
            "| NVIDIA-SMI 525.85.12    Driver Version: 525.85.12    CUDA Version: 12.0     |\n",
            "|-------------------------------+----------------------+----------------------+\n",
            "| GPU  Name        Persistence-M| Bus-Id        Disp.A | Volatile Uncorr. ECC |\n",
            "| Fan  Temp  Perf  Pwr:Usage/Cap|         Memory-Usage | GPU-Util  Compute M. |\n",
            "|                               |                      |               MIG M. |\n",
            "|===============================+======================+======================|\n",
            "|   0  Tesla T4            Off  | 00000000:00:04.0 Off |                    0 |\n",
            "| N/A   32C    P8     9W /  70W |      0MiB / 15360MiB |      0%      Default |\n",
            "|                               |                      |                  N/A |\n",
            "+-------------------------------+----------------------+----------------------+\n",
            "                                                                               \n",
            "+-----------------------------------------------------------------------------+\n",
            "| Processes:                                                                  |\n",
            "|  GPU   GI   CI        PID   Type   Process name                  GPU Memory |\n",
            "|        ID   ID                                                   Usage      |\n",
            "|=============================================================================|\n",
            "|  No running processes found                                                 |\n",
            "+-----------------------------------------------------------------------------+\n"
          ]
        }
      ]
    },
    {
      "cell_type": "code",
      "source": [
        "!git clone https://github.com/rapidsai/rapidsai-csp-utils.git"
      ],
      "metadata": {
        "colab": {
          "base_uri": "https://localhost:8080/"
        },
        "id": "Xmbj9Om-LKTD",
        "outputId": "940c73f9-a1b8-42fb-ccb4-a08809201da2"
      },
      "execution_count": 4,
      "outputs": [
        {
          "output_type": "stream",
          "name": "stdout",
          "text": [
            "Cloning into 'rapidsai-csp-utils'...\n",
            "remote: Enumerating objects: 385, done.\u001b[K\n",
            "remote: Counting objects: 100% (116/116), done.\u001b[K\n",
            "remote: Compressing objects: 100% (65/65), done.\u001b[K\n",
            "remote: Total 385 (delta 86), reused 51 (delta 51), pack-reused 269\u001b[K\n",
            "Receiving objects: 100% (385/385), 105.74 KiB | 8.81 MiB/s, done.\n",
            "Resolving deltas: 100% (188/188), done.\n"
          ]
        }
      ]
    },
    {
      "cell_type": "code",
      "source": [
        "!python3 -m pip install pynvml"
      ],
      "metadata": {
        "colab": {
          "base_uri": "https://localhost:8080/"
        },
        "id": "4cyhbP-yLMNO",
        "outputId": "4cd30052-84b0-4d58-b201-4494e018d9d6"
      },
      "execution_count": 5,
      "outputs": [
        {
          "output_type": "stream",
          "name": "stdout",
          "text": [
            "Looking in indexes: https://pypi.org/simple, https://us-python.pkg.dev/colab-wheels/public/simple/\n",
            "Collecting pynvml\n",
            "  Downloading pynvml-11.5.0-py3-none-any.whl (53 kB)\n",
            "\u001b[2K     \u001b[90m━━━━━━━━━━━━━━━━━━━━━━━━━━━━━━━━━━━━━━━\u001b[0m \u001b[32m53.1/53.1 kB\u001b[0m \u001b[31m852.0 kB/s\u001b[0m eta \u001b[36m0:00:00\u001b[0m\n",
            "\u001b[?25hInstalling collected packages: pynvml\n",
            "Successfully installed pynvml-11.5.0\n"
          ]
        }
      ]
    },
    {
      "cell_type": "code",
      "source": [
        "!python3 rapidsai-csp-utils/colab/env-check.py"
      ],
      "metadata": {
        "colab": {
          "base_uri": "https://localhost:8080/"
        },
        "id": "endQ84MDLOhC",
        "outputId": "025a10f3-3e43-4e96-fb13-61a3171ec9e2"
      },
      "execution_count": 6,
      "outputs": [
        {
          "output_type": "stream",
          "name": "stdout",
          "text": [
            "***********************************************************************\n",
            "Woo! Your instance has the right kind of GPU, a Tesla T4!\n",
            "We will now install RAPIDS via pip!  Please stand by, should be quick...\n",
            "***********************************************************************\n",
            "\n"
          ]
        }
      ]
    },
    {
      "cell_type": "code",
      "source": [
        "!python rapidsai-csp-utils/colab/pip-install.py"
      ],
      "metadata": {
        "colab": {
          "base_uri": "https://localhost:8080/"
        },
        "id": "9-wPr1FHU5hX",
        "outputId": "eb9c8879-5131-4975-ba22-fc5edbfeac24"
      },
      "execution_count": 4,
      "outputs": [
        {
          "output_type": "stream",
          "name": "stdout",
          "text": [
            "Looking in indexes: https://pypi.org/simple, https://us-python.pkg.dev/colab-wheels/public/simple/\n",
            "Collecting pynvml\n",
            "  Using cached pynvml-11.5.0-py3-none-any.whl (53 kB)\n",
            "Installing collected packages: pynvml\n",
            "Successfully installed pynvml-11.5.0\n",
            "WARNING: Running pip as the 'root' user can result in broken permissions and conflicting behaviour with the system package manager. It is recommended to use a virtual environment instead: https://pip.pypa.io/warnings/venv\n",
            "***********************************************************************\n",
            "Woo! Your instance has the right kind of GPU, a Tesla T4!\n",
            "We will now install RAPIDS cuDF, cuML, and cuGraph via pip! \n",
            "Please stand by, should be quick...\n",
            "***********************************************************************\n",
            "\n",
            "Looking in indexes: https://pypi.org/simple, https://us-python.pkg.dev/colab-wheels/public/simple/, https://pypi.nvidia.com\n",
            "Collecting cudf-cu11\n",
            "  Downloading https://pypi.nvidia.com/cudf-cu11/cudf_cu11-23.4.1-cp310-cp310-manylinux_2_17_x86_64.manylinux2014_x86_64.whl (496.6 MB)\n",
            "     ━━━━━━━━━━━━━━━━━━━━━━━━━━━━━━━━━━━━━━━ 496.6/496.6 MB 3.1 MB/s eta 0:00:00\n",
            "Collecting cuml-cu11\n",
            "  Downloading https://pypi.nvidia.com/cuml-cu11/cuml_cu11-23.4.1-cp310-cp310-manylinux_2_17_x86_64.manylinux2014_x86_64.whl (1110.9 MB)\n",
            "     ━━━━━━━━━━━━━━━━━━━━━━━━━━━━━━━━━━━━━━━━ 1.1/1.1 GB 1.4 MB/s eta 0:00:00\n",
            "Collecting cugraph-cu11\n",
            "  Downloading https://pypi.nvidia.com/cugraph-cu11/cugraph_cu11-23.4.1-cp310-cp310-manylinux_2_17_x86_64.manylinux2014_x86_64.whl (1142.4 MB)\n",
            "     ━━━━━━━━━━━━━━━━━━━━━━━━━━━━━━━━━━━━━━━━ 1.1/1.1 GB 1.4 MB/s eta 0:00:00\n",
            "Collecting aiohttp\n",
            "  Downloading aiohttp-3.8.4-cp310-cp310-manylinux_2_17_x86_64.manylinux2014_x86_64.whl (1.0 MB)\n",
            "     ━━━━━━━━━━━━━━━━━━━━━━━━━━━━━━━━━━━━━━━━ 1.0/1.0 MB 21.3 MB/s eta 0:00:00\n",
            "Collecting nvtx>=0.2.1\n",
            "  Downloading nvtx-0.2.5-cp310-cp310-manylinux_2_17_x86_64.manylinux2014_x86_64.whl (428 kB)\n",
            "     ━━━━━━━━━━━━━━━━━━━━━━━━━━━━━━━━━━━━━━ 428.4/428.4 kB 27.7 MB/s eta 0:00:00\n",
            "Collecting cubinlinker-cu11\n",
            "  Downloading https://pypi.nvidia.com/cubinlinker-cu11/cubinlinker_cu11-0.3.0.post1-cp310-cp310-manylinux_2_17_x86_64.manylinux2014_x86_64.whl (8.8 MB)\n",
            "     ━━━━━━━━━━━━━━━━━━━━━━━━━━━━━━━━━━━━━━━━ 8.8/8.8 MB 103.2 MB/s eta 0:00:00\n",
            "Collecting numpy>=1.21\n",
            "  Downloading numpy-1.24.3-cp310-cp310-manylinux_2_17_x86_64.manylinux2014_x86_64.whl (17.3 MB)\n",
            "     ━━━━━━━━━━━━━━━━━━━━━━━━━━━━━━━━━━━━━━━━ 17.3/17.3 MB 76.2 MB/s eta 0:00:00\n",
            "Collecting pandas<1.6.0dev0,>=1.3\n",
            "  Downloading pandas-1.5.3-cp310-cp310-manylinux_2_17_x86_64.manylinux2014_x86_64.whl (12.1 MB)\n",
            "     ━━━━━━━━━━━━━━━━━━━━━━━━━━━━━━━━━━━━━━━━ 12.1/12.1 MB 80.7 MB/s eta 0:00:00\n",
            "Collecting packaging\n",
            "  Downloading packaging-23.1-py3-none-any.whl (48 kB)\n",
            "     ━━━━━━━━━━━━━━━━━━━━━━━━━━━━━━━━━━━━━━━━ 48.9/48.9 kB 6.1 MB/s eta 0:00:00\n",
            "Collecting typing-extensions\n",
            "  Downloading typing_extensions-4.5.0-py3-none-any.whl (27 kB)\n",
            "Collecting rmm-cu11==23.4.*\n",
            "  Downloading https://pypi.nvidia.com/rmm-cu11/rmm_cu11-23.4.1-cp310-cp310-manylinux_2_17_x86_64.manylinux2014_x86_64.whl (2.3 MB)\n",
            "     ━━━━━━━━━━━━━━━━━━━━━━━━━━━━━━━━━━━━━━━━ 2.3/2.3 MB 76.4 MB/s eta 0:00:00\n",
            "Collecting cuda-python<12.0,>=11.7.1\n",
            "  Downloading cuda_python-11.8.1-cp310-cp310-manylinux_2_17_x86_64.manylinux2014_x86_64.whl (16.5 MB)\n",
            "     ━━━━━━━━━━━━━━━━━━━━━━━━━━━━━━━━━━━━━━━ 16.5/16.5 MB 100.1 MB/s eta 0:00:00\n",
            "Collecting protobuf<4.22,>=4.21.6\n",
            "  Downloading protobuf-4.21.12-cp37-abi3-manylinux2014_x86_64.whl (409 kB)\n",
            "     ━━━━━━━━━━━━━━━━━━━━━━━━━━━━━━━━━━━━━━━ 409.8/409.8 kB 7.2 MB/s eta 0:00:00\n",
            "Collecting ptxcompiler-cu11\n",
            "  Downloading https://pypi.nvidia.com/ptxcompiler-cu11/ptxcompiler_cu11-0.7.0.post1-cp310-cp310-manylinux_2_17_x86_64.manylinux2014_x86_64.whl (8.8 MB)\n",
            "     ━━━━━━━━━━━━━━━━━━━━━━━━━━━━━━━━━━━━━━━━ 8.8/8.8 MB 111.0 MB/s eta 0:00:00\n",
            "Collecting numba<0.57,>=0.56.4\n",
            "  Downloading numba-0.56.4-cp310-cp310-manylinux2014_x86_64.manylinux_2_17_x86_64.whl (3.5 MB)\n",
            "     ━━━━━━━━━━━━━━━━━━━━━━━━━━━━━━━━━━━━━━━━ 3.5/3.5 MB 110.0 MB/s eta 0:00:00\n",
            "Collecting pyarrow==10.*\n",
            "  Downloading pyarrow-10.0.1-cp310-cp310-manylinux_2_17_x86_64.manylinux2014_x86_64.whl (35.9 MB)\n",
            "     ━━━━━━━━━━━━━━━━━━━━━━━━━━━━━━━━━━━━━━━━ 35.9/35.9 MB 19.4 MB/s eta 0:00:00\n",
            "Collecting fsspec>=0.6.0\n",
            "  Downloading fsspec-2023.4.0-py3-none-any.whl (153 kB)\n",
            "     ━━━━━━━━━━━━━━━━━━━━━━━━━━━━━━━━━━━━━━ 154.0/154.0 kB 21.8 MB/s eta 0:00:00\n",
            "Collecting cupy-cuda11x<12.0.0a0,>=9.5.0\n",
            "  Downloading cupy_cuda11x-11.6.0-cp310-cp310-manylinux1_x86_64.whl (91.2 MB)\n",
            "     ━━━━━━━━━━━━━━━━━━━━━━━━━━━━━━━━━━━━━━━━ 91.2/91.2 MB 5.6 MB/s eta 0:00:00\n",
            "Collecting cachetools\n",
            "  Downloading cachetools-5.3.0-py3-none-any.whl (9.3 kB)\n",
            "Collecting joblib>=0.11\n",
            "  Downloading joblib-1.2.0-py3-none-any.whl (297 kB)\n",
            "     ━━━━━━━━━━━━━━━━━━━━━━━━━━━━━━━━━━━━━━ 298.0/298.0 kB 36.6 MB/s eta 0:00:00\n",
            "Collecting treelite-runtime==3.2.0\n",
            "  Downloading treelite_runtime-3.2.0-py3-none-manylinux2014_x86_64.whl (198 kB)\n",
            "     ━━━━━━━━━━━━━━━━━━━━━━━━━━━━━━━━━━━━━━ 198.2/198.2 kB 25.9 MB/s eta 0:00:00\n",
            "Collecting treelite==3.2.0\n",
            "  Downloading treelite-3.2.0-py3-none-manylinux2014_x86_64.whl (1.0 MB)\n",
            "     ━━━━━━━━━━━━━━━━━━━━━━━━━━━━━━━━━━━━━━━━ 1.0/1.0 MB 65.6 MB/s eta 0:00:00\n",
            "Collecting raft-dask-cu11==23.4.*\n",
            "  Downloading https://pypi.nvidia.com/raft-dask-cu11/raft_dask_cu11-23.4.1-cp310-cp310-manylinux_2_17_x86_64.manylinux2014_x86_64.whl (215.1 MB)\n",
            "     ━━━━━━━━━━━━━━━━━━━━━━━━━━━━━━━━━━━━━━━ 215.1/215.1 MB 5.9 MB/s eta 0:00:00\n",
            "Collecting seaborn\n",
            "  Downloading seaborn-0.12.2-py3-none-any.whl (293 kB)\n",
            "     ━━━━━━━━━━━━━━━━━━━━━━━━━━━━━━━━━━━━━━ 293.3/293.3 kB 28.3 MB/s eta 0:00:00\n",
            "Collecting dask-cuda==23.4.*\n",
            "  Downloading dask_cuda-23.4.0-py3-none-any.whl (125 kB)\n",
            "     ━━━━━━━━━━━━━━━━━━━━━━━━━━━━━━━━━━━━━━ 125.3/125.3 kB 18.0 MB/s eta 0:00:00\n",
            "Collecting scipy\n",
            "  Downloading scipy-1.10.1-cp310-cp310-manylinux_2_17_x86_64.manylinux2014_x86_64.whl (34.4 MB)\n",
            "     ━━━━━━━━━━━━━━━━━━━━━━━━━━━━━━━━━━━━━━━━ 34.4/34.4 MB 47.6 MB/s eta 0:00:00\n",
            "Collecting dask-cudf-cu11==23.4.*\n",
            "  Downloading https://pypi.nvidia.com/dask-cudf-cu11/dask_cudf_cu11-23.4.1-py3-none-any.whl (79 kB)\n",
            "     ━━━━━━━━━━━━━━━━━━━━━━━━━━━━━━━━━━━━━━━━ 79.4/79.4 kB 12.8 MB/s eta 0:00:00\n",
            "Collecting dask==2023.3.2\n",
            "  Downloading dask-2023.3.2-py3-none-any.whl (1.2 MB)\n",
            "     ━━━━━━━━━━━━━━━━━━━━━━━━━━━━━━━━━━━━━━━━ 1.2/1.2 MB 81.8 MB/s eta 0:00:00\n",
            "Collecting distributed==2023.3.2.1\n",
            "  Downloading distributed-2023.3.2.1-py3-none-any.whl (957 kB)\n",
            "     ━━━━━━━━━━━━━━━━━━━━━━━━━━━━━━━━━━━━━━ 957.1/957.1 kB 75.3 MB/s eta 0:00:00\n",
            "Collecting pyyaml>=5.3.1\n",
            "  Downloading PyYAML-6.0-cp310-cp310-manylinux_2_5_x86_64.manylinux1_x86_64.manylinux_2_12_x86_64.manylinux2010_x86_64.whl (682 kB)\n",
            "     ━━━━━━━━━━━━━━━━━━━━━━━━━━━━━━━━━━━━━━ 682.2/682.2 kB 60.5 MB/s eta 0:00:00\n",
            "Collecting importlib-metadata>=4.13.0\n",
            "  Downloading importlib_metadata-6.6.0-py3-none-any.whl (22 kB)\n",
            "Collecting partd>=1.2.0\n",
            "  Downloading partd-1.4.0-py3-none-any.whl (18 kB)\n",
            "Collecting click>=7.0\n",
            "  Downloading click-8.1.3-py3-none-any.whl (96 kB)\n",
            "     ━━━━━━━━━━━━━━━━━━━━━━━━━━━━━━━━━━━━━━━━ 96.6/96.6 kB 14.6 MB/s eta 0:00:00\n",
            "Requirement already satisfied: toolz>=0.8.2 in /usr/local/lib/python3.10/site-packages (from dask==2023.3.2->cuml-cu11) (0.12.0)\n",
            "Collecting cloudpickle>=1.1.1\n",
            "  Downloading cloudpickle-2.2.1-py3-none-any.whl (25 kB)\n",
            "Collecting zict>=0.1.3\n",
            "  Downloading zict-3.0.0-py2.py3-none-any.whl (43 kB)\n",
            "     ━━━━━━━━━━━━━━━━━━━━━━━━━━━━━━━━━━━━━━━━ 43.3/43.3 kB 5.0 MB/s eta 0:00:00\n",
            "Collecting pynvml<11.5,>=11.0.0\n",
            "  Downloading pynvml-11.4.1-py3-none-any.whl (46 kB)\n",
            "     ━━━━━━━━━━━━━━━━━━━━━━━━━━━━━━━━━━━━━━━━ 47.0/47.0 kB 6.1 MB/s eta 0:00:00\n",
            "Collecting sortedcontainers>=2.0.5\n",
            "  Downloading sortedcontainers-2.4.0-py2.py3-none-any.whl (29 kB)\n",
            "Collecting tblib>=1.6.0\n",
            "  Downloading tblib-1.7.0-py2.py3-none-any.whl (12 kB)\n",
            "Collecting msgpack>=1.0.0\n",
            "  Downloading msgpack-1.0.5-cp310-cp310-manylinux_2_17_x86_64.manylinux2014_x86_64.whl (316 kB)\n",
            "     ━━━━━━━━━━━━━━━━━━━━━━━━━━━━━━━━━━━━━━ 316.8/316.8 kB 30.9 MB/s eta 0:00:00\n",
            "Collecting tornado>=6.0.3\n",
            "  Downloading tornado-6.3.1-cp38-abi3-manylinux_2_5_x86_64.manylinux1_x86_64.manylinux_2_17_x86_64.manylinux2014_x86_64.whl (426 kB)\n",
            "     ━━━━━━━━━━━━━━━━━━━━━━━━━━━━━━━━━━━━━━ 426.8/426.8 kB 42.8 MB/s eta 0:00:00\n",
            "Collecting psutil>=5.7.0\n",
            "  Downloading psutil-5.9.5-cp36-abi3-manylinux_2_12_x86_64.manylinux2010_x86_64.manylinux_2_17_x86_64.manylinux2014_x86_64.whl (282 kB)\n",
            "     ━━━━━━━━━━━━━━━━━━━━━━━━━━━━━━━━━━━━━━ 282.1/282.1 kB 34.5 MB/s eta 0:00:00\n",
            "Requirement already satisfied: urllib3>=1.24.3 in /usr/local/lib/python3.10/site-packages (from distributed==2023.3.2.1->cuml-cu11) (1.26.15)\n",
            "Collecting jinja2>=2.10.3\n",
            "  Downloading Jinja2-3.1.2-py3-none-any.whl (133 kB)\n",
            "     ━━━━━━━━━━━━━━━━━━━━━━━━━━━━━━━━━━━━━━ 133.1/133.1 kB 18.3 MB/s eta 0:00:00\n",
            "Collecting locket>=1.0.0\n",
            "  Downloading locket-1.0.0-py2.py3-none-any.whl (4.4 kB)\n",
            "Collecting ucx-py-cu11==0.31.*\n",
            "  Downloading https://pypi.nvidia.com/ucx-py-cu11/ucx_py_cu11-0.31.1-cp310-cp310-manylinux_2_17_x86_64.manylinux2014_x86_64.whl (8.3 MB)\n",
            "     ━━━━━━━━━━━━━━━━━━━━━━━━━━━━━━━━━━━━━━━━ 8.3/8.3 MB 104.0 MB/s eta 0:00:00\n",
            "Collecting pylibraft-cu11==23.4.*\n",
            "  Downloading https://pypi.nvidia.com/pylibraft-cu11/pylibraft_cu11-23.4.1-cp310-cp310-manylinux_2_17_x86_64.manylinux2014_x86_64.whl (618.0 MB)\n",
            "     ━━━━━━━━━━━━━━━━━━━━━━━━━━━━━━━━━━━━━━━ 618.0/618.0 MB 2.5 MB/s eta 0:00:00\n",
            "Collecting pylibcugraph-cu11==23.4.*\n",
            "  Downloading https://pypi.nvidia.com/pylibcugraph-cu11/pylibcugraph_cu11-23.4.1-cp310-cp310-manylinux_2_17_x86_64.manylinux2014_x86_64.whl (1141.1 MB)\n",
            "     ━━━━━━━━━━━━━━━━━━━━━━━━━━━━━━━━━━━━━━━━ 1.1/1.1 GB 1.4 MB/s eta 0:00:00\n",
            "Collecting yarl<2.0,>=1.0\n",
            "  Downloading yarl-1.9.2-cp310-cp310-manylinux_2_17_x86_64.manylinux2014_x86_64.whl (268 kB)\n",
            "     ━━━━━━━━━━━━━━━━━━━━━━━━━━━━━━━━━━━━━━ 268.8/268.8 kB 33.4 MB/s eta 0:00:00\n",
            "Collecting frozenlist>=1.1.1\n",
            "  Downloading frozenlist-1.3.3-cp310-cp310-manylinux_2_5_x86_64.manylinux1_x86_64.manylinux_2_17_x86_64.manylinux2014_x86_64.whl (149 kB)\n",
            "     ━━━━━━━━━━━━━━━━━━━━━━━━━━━━━━━━━━━━━━ 149.6/149.6 kB 16.9 MB/s eta 0:00:00\n",
            "Collecting attrs>=17.3.0\n",
            "  Downloading attrs-23.1.0-py3-none-any.whl (61 kB)\n",
            "     ━━━━━━━━━━━━━━━━━━━━━━━━━━━━━━━━━━━━━━━━ 61.2/61.2 kB 8.3 MB/s eta 0:00:00\n",
            "Collecting async-timeout<5.0,>=4.0.0a3\n",
            "  Downloading async_timeout-4.0.2-py3-none-any.whl (5.8 kB)\n",
            "Collecting multidict<7.0,>=4.5\n",
            "  Downloading multidict-6.0.4-cp310-cp310-manylinux_2_17_x86_64.manylinux2014_x86_64.whl (114 kB)\n",
            "     ━━━━━━━━━━━━━━━━━━━━━━━━━━━━━━━━━━━━━━ 114.5/114.5 kB 14.5 MB/s eta 0:00:00\n",
            "Collecting aiosignal>=1.1.2\n",
            "  Downloading aiosignal-1.3.1-py3-none-any.whl (7.6 kB)\n",
            "Requirement already satisfied: charset-normalizer<4.0,>=2.0 in /usr/local/lib/python3.10/site-packages (from aiohttp) (3.1.0)\n",
            "Collecting cython\n",
            "  Downloading Cython-0.29.34-cp310-cp310-manylinux_2_17_x86_64.manylinux2014_x86_64.manylinux_2_24_x86_64.whl (1.9 MB)\n",
            "     ━━━━━━━━━━━━━━━━━━━━━━━━━━━━━━━━━━━━━━━━ 1.9/1.9 MB 65.8 MB/s eta 0:00:00\n",
            "Collecting fastrlock>=0.5\n",
            "  Downloading fastrlock-0.8.1-cp310-cp310-manylinux_2_5_x86_64.manylinux1_x86_64.manylinux_2_24_x86_64.whl (47 kB)\n",
            "     ━━━━━━━━━━━━━━━━━━━━━━━━━━━━━━━━━━━━━━━━ 47.3/47.3 kB 6.5 MB/s eta 0:00:00\n",
            "Collecting numpy>=1.21\n",
            "  Downloading numpy-1.23.5-cp310-cp310-manylinux_2_17_x86_64.manylinux2014_x86_64.whl (17.1 MB)\n",
            "     ━━━━━━━━━━━━━━━━━━━━━━━━━━━━━━━━━━━━━━━━ 17.1/17.1 MB 67.5 MB/s eta 0:00:00\n",
            "Collecting llvmlite<0.40,>=0.39.0dev0\n",
            "  Downloading llvmlite-0.39.1-cp310-cp310-manylinux_2_17_x86_64.manylinux2014_x86_64.whl (34.6 MB)\n",
            "     ━━━━━━━━━━━━━━━━━━━━━━━━━━━━━━━━━━━━━━━━ 34.6/34.6 MB 17.8 MB/s eta 0:00:00\n",
            "Requirement already satisfied: setuptools in /usr/local/lib/python3.10/site-packages (from numba<0.57,>=0.56.4->cudf-cu11) (65.6.3)\n",
            "Collecting python-dateutil>=2.8.1\n",
            "  Downloading python_dateutil-2.8.2-py2.py3-none-any.whl (247 kB)\n",
            "     ━━━━━━━━━━━━━━━━━━━━━━━━━━━━━━━━━━━━━━ 247.7/247.7 kB 28.8 MB/s eta 0:00:00\n",
            "Collecting pytz>=2020.1\n",
            "  Downloading pytz-2023.3-py2.py3-none-any.whl (502 kB)\n",
            "     ━━━━━━━━━━━━━━━━━━━━━━━━━━━━━━━━━━━━━━ 502.3/502.3 kB 44.7 MB/s eta 0:00:00\n",
            "Requirement already satisfied: idna>=2.0 in /usr/local/lib/python3.10/site-packages (from yarl<2.0,>=1.0->aiohttp) (3.4)\n",
            "Collecting matplotlib!=3.6.1,>=3.1\n",
            "  Downloading matplotlib-3.7.1-cp310-cp310-manylinux_2_17_x86_64.manylinux2014_x86_64.whl (11.6 MB)\n",
            "     ━━━━━━━━━━━━━━━━━━━━━━━━━━━━━━━━━━━━━━━ 11.6/11.6 MB 119.9 MB/s eta 0:00:00\n",
            "Collecting zipp>=0.5\n",
            "  Downloading zipp-3.15.0-py3-none-any.whl (6.8 kB)\n",
            "Collecting MarkupSafe>=2.0\n",
            "  Downloading MarkupSafe-2.1.2-cp310-cp310-manylinux_2_17_x86_64.manylinux2014_x86_64.whl (25 kB)\n",
            "Collecting kiwisolver>=1.0.1\n",
            "  Downloading kiwisolver-1.4.4-cp310-cp310-manylinux_2_12_x86_64.manylinux2010_x86_64.whl (1.6 MB)\n",
            "     ━━━━━━━━━━━━━━━━━━━━━━━━━━━━━━━━━━━━━━━━ 1.6/1.6 MB 96.7 MB/s eta 0:00:00\n",
            "Collecting pillow>=6.2.0\n",
            "  Downloading Pillow-9.5.0-cp310-cp310-manylinux_2_28_x86_64.whl (3.4 MB)\n",
            "     ━━━━━━━━━━━━━━━━━━━━━━━━━━━━━━━━━━━━━━━━ 3.4/3.4 MB 107.2 MB/s eta 0:00:00\n",
            "Collecting pyparsing>=2.3.1\n",
            "  Downloading pyparsing-3.0.9-py3-none-any.whl (98 kB)\n",
            "     ━━━━━━━━━━━━━━━━━━━━━━━━━━━━━━━━━━━━━━━━ 98.3/98.3 kB 10.6 MB/s eta 0:00:00\n",
            "Collecting fonttools>=4.22.0\n",
            "  Downloading fonttools-4.39.3-py3-none-any.whl (1.0 MB)\n",
            "     ━━━━━━━━━━━━━━━━━━━━━━━━━━━━━━━━━━━━━━━━ 1.0/1.0 MB 65.0 MB/s eta 0:00:00\n",
            "Collecting contourpy>=1.0.1\n",
            "  Downloading contourpy-1.0.7-cp310-cp310-manylinux_2_17_x86_64.manylinux2014_x86_64.whl (300 kB)\n",
            "     ━━━━━━━━━━━━━━━━━━━━━━━━━━━━━━━━━━━━━━ 300.3/300.3 kB 29.4 MB/s eta 0:00:00\n",
            "Collecting cycler>=0.10\n",
            "  Downloading cycler-0.11.0-py3-none-any.whl (6.4 kB)\n",
            "Collecting six>=1.5\n",
            "  Downloading six-1.16.0-py2.py3-none-any.whl (11 kB)\n",
            "Installing collected packages: sortedcontainers, pytz, ptxcompiler-cu11, nvtx, msgpack, fastrlock, cubinlinker-cu11, zipp, zict, typing-extensions, tornado, tblib, six, pyyaml, pyparsing, pynvml, psutil, protobuf, pillow, packaging, numpy, multidict, MarkupSafe, locket, llvmlite, kiwisolver, joblib, fsspec, frozenlist, fonttools, cython, cycler, cloudpickle, click, cachetools, attrs, async-timeout, yarl, ucx-py-cu11, scipy, python-dateutil, pyarrow, partd, numba, jinja2, importlib-metadata, cupy-cuda11x, cuda-python, contourpy, aiosignal, treelite-runtime, treelite, rmm-cu11, pandas, matplotlib, dask, aiohttp, seaborn, pylibraft-cu11, distributed, cudf-cu11, pylibcugraph-cu11, dask-cudf-cu11, dask-cuda, raft-dask-cu11, cuml-cu11, cugraph-cu11\n",
            "  Attempting uninstall: pynvml\n",
            "    Found existing installation: pynvml 11.5.0\n",
            "    Uninstalling pynvml-11.5.0:\n",
            "      Successfully uninstalled pynvml-11.5.0\n",
            "Successfully installed MarkupSafe-2.1.2 aiohttp-3.8.4 aiosignal-1.3.1 async-timeout-4.0.2 attrs-23.1.0 cachetools-5.3.0 click-8.1.3 cloudpickle-2.2.1 contourpy-1.0.7 cubinlinker-cu11-0.3.0.post1 cuda-python-11.8.1 cudf-cu11-23.4.1 cugraph-cu11-23.4.1 cuml-cu11-23.4.1 cupy-cuda11x-11.6.0 cycler-0.11.0 cython-0.29.34 dask-2023.3.2 dask-cuda-23.4.0 dask-cudf-cu11-23.4.1 distributed-2023.3.2.1 fastrlock-0.8.1 fonttools-4.39.3 frozenlist-1.3.3 fsspec-2023.4.0 importlib-metadata-6.6.0 jinja2-3.1.2 joblib-1.2.0 kiwisolver-1.4.4 llvmlite-0.39.1 locket-1.0.0 matplotlib-3.7.1 msgpack-1.0.5 multidict-6.0.4 numba-0.56.4 numpy-1.23.5 nvtx-0.2.5 packaging-23.1 pandas-1.5.3 partd-1.4.0 pillow-9.5.0 protobuf-4.21.12 psutil-5.9.5 ptxcompiler-cu11-0.7.0.post1 pyarrow-10.0.1 pylibcugraph-cu11-23.4.1 pylibraft-cu11-23.4.1 pynvml-11.4.1 pyparsing-3.0.9 python-dateutil-2.8.2 pytz-2023.3 pyyaml-6.0 raft-dask-cu11-23.4.1 rmm-cu11-23.4.1 scipy-1.10.1 seaborn-0.12.2 six-1.16.0 sortedcontainers-2.4.0 tblib-1.7.0 tornado-6.3.1 treelite-3.2.0 treelite-runtime-3.2.0 typing-extensions-4.5.0 ucx-py-cu11-0.31.1 yarl-1.9.2 zict-3.0.0 zipp-3.15.0\n",
            "WARNING: Running pip as the 'root' user can result in broken permissions and conflicting behaviour with the system package manager. It is recommended to use a virtual environment instead: https://pip.pypa.io/warnings/venv\n",
            "Looking in indexes: https://pypi.org/simple, https://us-python.pkg.dev/colab-wheels/public/simple/\n",
            "Requirement already satisfied: cupy-cuda11x in /usr/local/lib/python3.10/site-packages (11.6.0)\n",
            "Requirement already satisfied: numpy<1.27,>=1.20 in /usr/local/lib/python3.10/site-packages (from cupy-cuda11x) (1.23.5)\n",
            "Requirement already satisfied: fastrlock>=0.5 in /usr/local/lib/python3.10/site-packages (from cupy-cuda11x) (0.8.1)\n",
            "WARNING: Running pip as the 'root' user can result in broken permissions and conflicting behaviour with the system package manager. It is recommended to use a virtual environment instead: https://pip.pypa.io/warnings/venv\n",
            "\n",
            "          ***********************************************************************\n",
            "          The pip install of RAPIDS is complete.\n",
            "          \n",
            "          Please do not run any further installation from the conda based installation methods, as they may cause issues!  \n",
            "          \n",
            "          Please ensure that you're pulling from the git repo to remain updated with the latest working install scripts. \n",
            "r          \n",
            "          Troubleshooting:\n",
            "             - If there is an installation failure, please check back on RAPIDSAI owned templates/notebooks to see how to update your personal files. \n",
            "             - If an installation failure persists when using the latest script, please make an issue on https://github.com/rapidsai-community/rapidsai-csp-utils\n",
            "          ***********************************************************************\n",
            "          \n"
          ]
        }
      ]
    },
    {
      "cell_type": "code",
      "source": [
        "import cudf\n",
        "cudf.__version__"
      ],
      "metadata": {
        "colab": {
          "base_uri": "https://localhost:8080/",
          "height": 36
        },
        "id": "OsRoFN7EU6Ke",
        "outputId": "db30dd1a-144d-40a5-971b-a1acbe8919cf"
      },
      "execution_count": 5,
      "outputs": [
        {
          "output_type": "execute_result",
          "data": {
            "text/plain": [
              "'23.04.01'"
            ],
            "application/vnd.google.colaboratory.intrinsic+json": {
              "type": "string"
            }
          },
          "metadata": {},
          "execution_count": 5
        }
      ]
    },
    {
      "cell_type": "code",
      "source": [
        "import cuml\n",
        "cuml.__version__"
      ],
      "metadata": {
        "colab": {
          "base_uri": "https://localhost:8080/",
          "height": 36
        },
        "id": "8tt3PlkvU6R6",
        "outputId": "7c86affd-4e38-40e8-a103-23d305c5d9b7"
      },
      "execution_count": 6,
      "outputs": [
        {
          "output_type": "execute_result",
          "data": {
            "text/plain": [
              "'23.04.01'"
            ],
            "application/vnd.google.colaboratory.intrinsic+json": {
              "type": "string"
            }
          },
          "metadata": {},
          "execution_count": 6
        }
      ]
    },
    {
      "cell_type": "code",
      "source": [
        "import cudf\n",
        "import numpy as np\n",
        "import pandas as pd\n",
        "import pickle\n",
        "\n",
        "from cuml.ensemble import RandomForestClassifier as curfc\n",
        "from cuml.metrics import accuracy_score\n",
        "\n",
        "from sklearn.ensemble import RandomForestClassifier as skrfc\n",
        "from sklearn.datasets import make_classification\n",
        "from sklearn.model_selection import train_test_split"
      ],
      "metadata": {
        "id": "PYMGFNeSLahL"
      },
      "execution_count": 35,
      "outputs": []
    },
    {
      "cell_type": "code",
      "source": [
        "# Replace 'your_file.csv' with the name of your CSV file\n",
        "file_path = 'final_data.csv'\n",
        "\n",
        "# Read the CSV file using pandas\n",
        "df = pd.read_csv(file_path)\n",
        "\n",
        "# Drop unnamed columns\n",
        "unnamed_columns = df.columns[df.columns.str.contains('^Unnamed')]\n",
        "df = df.drop(columns=unnamed_columns)\n",
        "\n",
        "df = df.dropna()\n",
        "\n",
        "df.info()"
      ],
      "metadata": {
        "colab": {
          "base_uri": "https://localhost:8080/"
        },
        "id": "kH0C4MiZWPSV",
        "outputId": "5db1f1b2-8d14-47d4-cfcf-40a88c4179bd"
      },
      "execution_count": 36,
      "outputs": [
        {
          "output_type": "stream",
          "name": "stdout",
          "text": [
            "<class 'pandas.core.frame.DataFrame'>\n",
            "Int64Index: 18584 entries, 0 to 19560\n",
            "Data columns (total 28 columns):\n",
            " #   Column                       Non-Null Count  Dtype  \n",
            "---  ------                       --------------  -----  \n",
            " 0   home_matches_played          18584 non-null  int64  \n",
            " 1   home_wins                    18584 non-null  int64  \n",
            " 2   home_win_rate                18584 non-null  float64\n",
            " 3   home_buildUpPlaySpeed        18584 non-null  float64\n",
            " 4   home_buildUpPlayDribbling    18584 non-null  float64\n",
            " 5   home_buildUpPlayPassing      18584 non-null  float64\n",
            " 6   home_chanceCreationPassing   18584 non-null  float64\n",
            " 7   home_chanceCreationCrossing  18584 non-null  float64\n",
            " 8   home_chanceCreationShooting  18584 non-null  float64\n",
            " 9   home_defencePressure         18584 non-null  float64\n",
            " 10  home_defenceAggression       18584 non-null  float64\n",
            " 11  home_defenceTeamWidth        18584 non-null  float64\n",
            " 12  away_matches_played          18584 non-null  int64  \n",
            " 13  away_wins                    18584 non-null  int64  \n",
            " 14  away_win_rate                18584 non-null  float64\n",
            " 15  away_buildUpPlaySpeed        18584 non-null  float64\n",
            " 16  away_buildUpPlayDribbling    18584 non-null  float64\n",
            " 17  away_buildUpPlayPassing      18584 non-null  float64\n",
            " 18  away_chanceCreationPassing   18584 non-null  float64\n",
            " 19  away_chanceCreationCrossing  18584 non-null  float64\n",
            " 20  away_chanceCreationShooting  18584 non-null  float64\n",
            " 21  away_defencePressure         18584 non-null  float64\n",
            " 22  away_defenceAggression       18584 non-null  float64\n",
            " 23  away_defenceTeamWidth        18584 non-null  float64\n",
            " 24  home_win                     18584 non-null  int64  \n",
            " 25  away_win                     18584 non-null  int64  \n",
            " 26  draw                         18584 non-null  int64  \n",
            " 27  avg_betting_odds             18584 non-null  float64\n",
            "dtypes: float64(21), int64(7)\n",
            "memory usage: 4.1 MB\n"
          ]
        }
      ]
    },
    {
      "cell_type": "code",
      "source": [
        "# n_samples = 2*17\n",
        "n_samples = 2**12\n",
        "n_features = 399\n",
        "n_info = 300\n",
        "data_type = np.float32"
      ],
      "metadata": {
        "id": "14zKSmiVaJ6h"
      },
      "execution_count": 38,
      "outputs": []
    },
    {
      "cell_type": "code",
      "source": [
        "predict_columns = ['home_win', 'draw', 'away_win']\n",
        "feature_columns = [col for col in df.columns if col not in predict_columns]\n",
        "\n",
        "X = df[feature_columns]\n",
        "y = pd.DataFrame(np.argmax(df[predict_columns].values, axis=1))"
      ],
      "metadata": {
        "id": "mdvsbXwrXnHY"
      },
      "execution_count": 37,
      "outputs": []
    },
    {
      "cell_type": "markdown",
      "source": [
        "### Local Host"
      ],
      "metadata": {
        "id": "cAsdLdvXaP5N"
      }
    },
    {
      "cell_type": "code",
      "source": [
        "%%time\n",
        "X,y = make_classification(n_samples=n_samples,\n",
        "                          n_features=n_features,\n",
        "                          n_informative=n_info,\n",
        "                          random_state=123, n_classes=2)\n",
        "\n",
        "X = pd.DataFrame(X.astype(data_type))\n",
        "# cuML Random Forest Classifier requires the labels to be integers\n",
        "y = pd.Series(y.astype(np.int32))\n",
        "\n",
        "X_train, X_test, y_train, y_test = train_test_split(X, y,\n",
        "                                                    test_size = 0.2,\n",
        "                                                    random_state=0)"
      ],
      "metadata": {
        "colab": {
          "base_uri": "https://localhost:8080/"
        },
        "id": "JF1eCTQSaOSS",
        "outputId": "a5f8dada-524a-4652-ae03-7bb0fd602a91"
      },
      "execution_count": 39,
      "outputs": [
        {
          "output_type": "stream",
          "name": "stdout",
          "text": [
            "CPU times: user 151 ms, sys: 95.7 ms, total: 247 ms\n",
            "Wall time: 300 ms\n"
          ]
        }
      ]
    },
    {
      "cell_type": "markdown",
      "source": [
        "### GPU"
      ],
      "metadata": {
        "id": "EWjvTeVeaUy_"
      }
    },
    {
      "cell_type": "code",
      "source": [
        "%%time\n",
        "X_cudf_train = cudf.DataFrame.from_pandas(X_train)\n",
        "X_cudf_test = cudf.DataFrame.from_pandas(X_test)\n",
        "\n",
        "y_cudf_train = cudf.Series(y_train.values)"
      ],
      "metadata": {
        "colab": {
          "base_uri": "https://localhost:8080/"
        },
        "id": "SK8Zr1VVaS3K",
        "outputId": "56a6a9e1-1e0b-4b24-bf88-a96c38eaf4ff"
      },
      "execution_count": 40,
      "outputs": [
        {
          "output_type": "stream",
          "name": "stdout",
          "text": [
            "CPU times: user 310 ms, sys: 0 ns, total: 310 ms\n",
            "Wall time: 314 ms\n"
          ]
        }
      ]
    },
    {
      "cell_type": "markdown",
      "source": [
        "# Random Forest"
      ],
      "metadata": {
        "id": "aFrMyi6kbVah"
      }
    },
    {
      "cell_type": "markdown",
      "source": [
        "### Fit Model"
      ],
      "metadata": {
        "id": "Coy5G-tUaZej"
      }
    },
    {
      "cell_type": "code",
      "source": [
        "# fit sklearn RandomForest\n",
        "%%time\n",
        "sk_model = skrfc(n_estimators=40,\n",
        "                 max_depth=16,\n",
        "                 max_features=1.0,\n",
        "                 random_state=10)\n",
        "\n",
        "sk_model.fit(X_train, y_train)"
      ],
      "metadata": {
        "colab": {
          "base_uri": "https://localhost:8080/",
          "height": 129
        },
        "id": "fvgHSY5BabYy",
        "outputId": "91ee3b21-8cdb-403f-eeeb-1d4e5ab37a97"
      },
      "execution_count": 41,
      "outputs": [
        {
          "output_type": "stream",
          "name": "stdout",
          "text": [
            "CPU times: user 42.7 s, sys: 44.7 ms, total: 42.8 s\n",
            "Wall time: 55.4 s\n"
          ]
        },
        {
          "output_type": "execute_result",
          "data": {
            "text/plain": [
              "RandomForestClassifier(max_depth=16, max_features=1.0, n_estimators=40,\n",
              "                       random_state=10)"
            ],
            "text/html": [
              "<style>#sk-container-id-1 {color: black;background-color: white;}#sk-container-id-1 pre{padding: 0;}#sk-container-id-1 div.sk-toggleable {background-color: white;}#sk-container-id-1 label.sk-toggleable__label {cursor: pointer;display: block;width: 100%;margin-bottom: 0;padding: 0.3em;box-sizing: border-box;text-align: center;}#sk-container-id-1 label.sk-toggleable__label-arrow:before {content: \"▸\";float: left;margin-right: 0.25em;color: #696969;}#sk-container-id-1 label.sk-toggleable__label-arrow:hover:before {color: black;}#sk-container-id-1 div.sk-estimator:hover label.sk-toggleable__label-arrow:before {color: black;}#sk-container-id-1 div.sk-toggleable__content {max-height: 0;max-width: 0;overflow: hidden;text-align: left;background-color: #f0f8ff;}#sk-container-id-1 div.sk-toggleable__content pre {margin: 0.2em;color: black;border-radius: 0.25em;background-color: #f0f8ff;}#sk-container-id-1 input.sk-toggleable__control:checked~div.sk-toggleable__content {max-height: 200px;max-width: 100%;overflow: auto;}#sk-container-id-1 input.sk-toggleable__control:checked~label.sk-toggleable__label-arrow:before {content: \"▾\";}#sk-container-id-1 div.sk-estimator input.sk-toggleable__control:checked~label.sk-toggleable__label {background-color: #d4ebff;}#sk-container-id-1 div.sk-label input.sk-toggleable__control:checked~label.sk-toggleable__label {background-color: #d4ebff;}#sk-container-id-1 input.sk-hidden--visually {border: 0;clip: rect(1px 1px 1px 1px);clip: rect(1px, 1px, 1px, 1px);height: 1px;margin: -1px;overflow: hidden;padding: 0;position: absolute;width: 1px;}#sk-container-id-1 div.sk-estimator {font-family: monospace;background-color: #f0f8ff;border: 1px dotted black;border-radius: 0.25em;box-sizing: border-box;margin-bottom: 0.5em;}#sk-container-id-1 div.sk-estimator:hover {background-color: #d4ebff;}#sk-container-id-1 div.sk-parallel-item::after {content: \"\";width: 100%;border-bottom: 1px solid gray;flex-grow: 1;}#sk-container-id-1 div.sk-label:hover label.sk-toggleable__label {background-color: #d4ebff;}#sk-container-id-1 div.sk-serial::before {content: \"\";position: absolute;border-left: 1px solid gray;box-sizing: border-box;top: 0;bottom: 0;left: 50%;z-index: 0;}#sk-container-id-1 div.sk-serial {display: flex;flex-direction: column;align-items: center;background-color: white;padding-right: 0.2em;padding-left: 0.2em;position: relative;}#sk-container-id-1 div.sk-item {position: relative;z-index: 1;}#sk-container-id-1 div.sk-parallel {display: flex;align-items: stretch;justify-content: center;background-color: white;position: relative;}#sk-container-id-1 div.sk-item::before, #sk-container-id-1 div.sk-parallel-item::before {content: \"\";position: absolute;border-left: 1px solid gray;box-sizing: border-box;top: 0;bottom: 0;left: 50%;z-index: -1;}#sk-container-id-1 div.sk-parallel-item {display: flex;flex-direction: column;z-index: 1;position: relative;background-color: white;}#sk-container-id-1 div.sk-parallel-item:first-child::after {align-self: flex-end;width: 50%;}#sk-container-id-1 div.sk-parallel-item:last-child::after {align-self: flex-start;width: 50%;}#sk-container-id-1 div.sk-parallel-item:only-child::after {width: 0;}#sk-container-id-1 div.sk-dashed-wrapped {border: 1px dashed gray;margin: 0 0.4em 0.5em 0.4em;box-sizing: border-box;padding-bottom: 0.4em;background-color: white;}#sk-container-id-1 div.sk-label label {font-family: monospace;font-weight: bold;display: inline-block;line-height: 1.2em;}#sk-container-id-1 div.sk-label-container {text-align: center;}#sk-container-id-1 div.sk-container {/* jupyter's `normalize.less` sets `[hidden] { display: none; }` but bootstrap.min.css set `[hidden] { display: none !important; }` so we also need the `!important` here to be able to override the default hidden behavior on the sphinx rendered scikit-learn.org. See: https://github.com/scikit-learn/scikit-learn/issues/21755 */display: inline-block !important;position: relative;}#sk-container-id-1 div.sk-text-repr-fallback {display: none;}</style><div id=\"sk-container-id-1\" class=\"sk-top-container\"><div class=\"sk-text-repr-fallback\"><pre>RandomForestClassifier(max_depth=16, max_features=1.0, n_estimators=40,\n",
              "                       random_state=10)</pre><b>In a Jupyter environment, please rerun this cell to show the HTML representation or trust the notebook. <br />On GitHub, the HTML representation is unable to render, please try loading this page with nbviewer.org.</b></div><div class=\"sk-container\" hidden><div class=\"sk-item\"><div class=\"sk-estimator sk-toggleable\"><input class=\"sk-toggleable__control sk-hidden--visually\" id=\"sk-estimator-id-1\" type=\"checkbox\" checked><label for=\"sk-estimator-id-1\" class=\"sk-toggleable__label sk-toggleable__label-arrow\">RandomForestClassifier</label><div class=\"sk-toggleable__content\"><pre>RandomForestClassifier(max_depth=16, max_features=1.0, n_estimators=40,\n",
              "                       random_state=10)</pre></div></div></div></div></div>"
            ]
          },
          "metadata": {},
          "execution_count": 41
        }
      ]
    },
    {
      "cell_type": "code",
      "source": [
        "# evaluate\n",
        "%%time\n",
        "sk_predict = sk_model.predict(X_test)\n",
        "sk_acc = accuracy_score(y_test, sk_predict)"
      ],
      "metadata": {
        "colab": {
          "base_uri": "https://localhost:8080/"
        },
        "id": "iEhgF1vaanOu",
        "outputId": "b3a605c1-a844-4cad-bd16-a0b47df35bcc"
      },
      "execution_count": 42,
      "outputs": [
        {
          "output_type": "stream",
          "name": "stdout",
          "text": [
            "CPU times: user 1.08 s, sys: 668 ms, total: 1.75 s\n",
            "Wall time: 2.99 s\n"
          ]
        }
      ]
    },
    {
      "cell_type": "code",
      "source": [
        "# cuML RandomForest\n",
        "%%time\n",
        "cuml_model = curfc(n_estimators=40,\n",
        "                   max_depth=16,\n",
        "                   max_features=1.0,\n",
        "                   random_state=10)\n",
        "\n",
        "cuml_model.fit(X_cudf_train, y_cudf_train)"
      ],
      "metadata": {
        "colab": {
          "base_uri": "https://localhost:8080/"
        },
        "id": "f6eGFYUvaj5i",
        "outputId": "39db2576-c988-4309-9c2e-1886ab469ce9"
      },
      "execution_count": 43,
      "outputs": [
        {
          "output_type": "stream",
          "name": "stderr",
          "text": [
            "/usr/local/lib/python3.10/site-packages/cuml/internals/api_decorators.py:344: UserWarning: For reproducible results in Random Forest Classifier or for almost reproducible results in Random Forest Regressor, n_streams=1 is recommended. If n_streams is > 1, results may vary due to stream/thread timing differences, even when random_state is set\n",
            "  return func(**kwargs)\n"
          ]
        },
        {
          "output_type": "stream",
          "name": "stdout",
          "text": [
            "CPU times: user 3.64 s, sys: 166 ms, total: 3.81 s\n",
            "Wall time: 4.83 s\n"
          ]
        },
        {
          "output_type": "execute_result",
          "data": {
            "text/plain": [
              "RandomForestClassifier()"
            ]
          },
          "metadata": {},
          "execution_count": 43
        }
      ]
    },
    {
      "cell_type": "code",
      "source": [
        "# evaluate\n",
        "%%time\n",
        "fil_preds_orig = cuml_model.predict(X_cudf_test)\n",
        "\n",
        "fil_acc_orig = accuracy_score(y_test.to_numpy(), fil_preds_orig)"
      ],
      "metadata": {
        "colab": {
          "base_uri": "https://localhost:8080/"
        },
        "id": "EqenfdToas9P",
        "outputId": "db312cfc-80c2-419a-e71b-997fcb6afd7d"
      },
      "execution_count": 44,
      "outputs": [
        {
          "output_type": "stream",
          "name": "stdout",
          "text": [
            "CPU times: user 10.8 s, sys: 100 ms, total: 10.9 s\n",
            "Wall time: 11 s\n"
          ]
        }
      ]
    },
    {
      "cell_type": "markdown",
      "source": [
        "### Pickle cuML random forest classification model"
      ],
      "metadata": {
        "id": "l9TkUlsGa-b7"
      }
    },
    {
      "cell_type": "code",
      "source": [
        "filename = 'cuml_random_forest_model.sav'\n",
        "# save the trained cuml model into a file\n",
        "pickle.dump(cuml_model, open(filename, 'wb'))\n",
        "# delete the previous model to ensure that there is no leakage of pointers.\n",
        "# this is not strictly necessary but just included here for demo purposes.\n",
        "del cuml_model\n",
        "# load the previously saved cuml model from a file\n",
        "pickled_cuml_model = pickle.load(open(filename, 'rb'))"
      ],
      "metadata": {
        "id": "MoQOWsYDa7Gx"
      },
      "execution_count": 45,
      "outputs": []
    },
    {
      "cell_type": "code",
      "source": [
        "# predict using the pickled model\n",
        "%%time\n",
        "pred_after_pickling = pickled_cuml_model.predict(X_cudf_test)\n",
        "\n",
        "fil_acc_after_pickling = accuracy_score(y_test.to_numpy(), pred_after_pickling)"
      ],
      "metadata": {
        "colab": {
          "base_uri": "https://localhost:8080/"
        },
        "id": "hOIA5Xp-bJ52",
        "outputId": "298e1a26-b684-4b8a-827c-922557117271"
      },
      "execution_count": 47,
      "outputs": [
        {
          "output_type": "stream",
          "name": "stdout",
          "text": [
            "CPU times: user 321 ms, sys: 52.5 ms, total: 374 ms\n",
            "Wall time: 729 ms\n"
          ]
        }
      ]
    },
    {
      "cell_type": "markdown",
      "source": [
        "### Compare Results"
      ],
      "metadata": {
        "id": "9hOPpYmobE18"
      }
    },
    {
      "cell_type": "code",
      "source": [
        "print(\"CUML accuracy of the RF model before pickling: %s\" % fil_acc_orig)\n",
        "print(\"CUML accuracy of the RF model after pickling: %s\" % fil_acc_after_pickling)"
      ],
      "metadata": {
        "colab": {
          "base_uri": "https://localhost:8080/"
        },
        "id": "pe1N21jabDL6",
        "outputId": "a1fd28cd-e1c9-4b46-c862-334be874d0d3"
      },
      "execution_count": 48,
      "outputs": [
        {
          "output_type": "stream",
          "name": "stdout",
          "text": [
            "CUML accuracy of the RF model before pickling: 0.7512195110321045\n",
            "CUML accuracy of the RF model after pickling: 0.7512195110321045\n"
          ]
        }
      ]
    },
    {
      "cell_type": "code",
      "source": [
        "print(\"SKL accuracy: %s\" % sk_acc)\n",
        "print(\"CUML accuracy before pickling: %s\" % fil_acc_orig)"
      ],
      "metadata": {
        "colab": {
          "base_uri": "https://localhost:8080/"
        },
        "id": "9dFSluNEbHh3",
        "outputId": "815fc75f-5fa1-4f1f-a061-bedad438ebe6"
      },
      "execution_count": 49,
      "outputs": [
        {
          "output_type": "stream",
          "name": "stdout",
          "text": [
            "SKL accuracy: 0.6926829218864441\n",
            "CUML accuracy before pickling: 0.7512195110321045\n"
          ]
        }
      ]
    },
    {
      "cell_type": "markdown",
      "source": [
        "# Linear Regression"
      ],
      "metadata": {
        "id": "bYq2s4Z9bZ3e"
      }
    },
    {
      "cell_type": "code",
      "source": [
        "import cudf\n",
        "from cuml import make_regression, train_test_split\n",
        "from cuml.linear_model import LinearRegression as cuLinearRegression\n",
        "from cuml.metrics.regression import r2_score\n",
        "from sklearn.linear_model import LinearRegression as skLinearRegression"
      ],
      "metadata": {
        "id": "DV3OjORtbbKo"
      },
      "execution_count": 50,
      "outputs": []
    },
    {
      "cell_type": "code",
      "source": [
        "# define params\n",
        "n_samples = 2**20 #If you are running on a GPU with less than 16GB RAM, please change to 2**19 or you could run out of memory\n",
        "n_features = 399\n",
        "\n",
        "random_state = 23"
      ],
      "metadata": {
        "id": "NRGejam4bsBG"
      },
      "execution_count": 51,
      "outputs": []
    },
    {
      "cell_type": "code",
      "source": [
        "%%time\n",
        "X, y = make_regression(n_samples=n_samples, n_features=n_features, random_state=random_state)\n",
        "\n",
        "X = cudf.DataFrame(X)\n",
        "y = cudf.DataFrame(y)[0]\n",
        "\n",
        "X_cudf, X_cudf_test, y_cudf, y_cudf_test = train_test_split(X, y, test_size = 0.2, random_state=random_state)"
      ],
      "metadata": {
        "colab": {
          "base_uri": "https://localhost:8080/"
        },
        "id": "hFYCxjoycvot",
        "outputId": "4a54ff83-06e6-47f4-bb1d-8c3623f4029a"
      },
      "execution_count": 59,
      "outputs": [
        {
          "output_type": "stream",
          "name": "stdout",
          "text": [
            "CPU times: user 1.16 s, sys: 130 ms, total: 1.29 s\n",
            "Wall time: 1.93 s\n"
          ]
        }
      ]
    },
    {
      "cell_type": "code",
      "source": [
        "# Copy dataset from GPU memory to host memory.\n",
        "# This is done to later compare CPU and GPU results.\n",
        "X_train = X_cudf.to_pandas()\n",
        "X_test = X_cudf_test.to_pandas()\n",
        "y_train = y_cudf.to_pandas()\n",
        "y_test = y_cudf_test.to_pandas()"
      ],
      "metadata": {
        "id": "lpphtAuNczbX"
      },
      "execution_count": 60,
      "outputs": []
    },
    {
      "cell_type": "markdown",
      "source": [
        "## Scikit-learn Model"
      ],
      "metadata": {
        "id": "Z63D27vKb7Pt"
      }
    },
    {
      "cell_type": "markdown",
      "source": [
        "### Fit Model"
      ],
      "metadata": {
        "id": "Nc-zbcXgcE7Y"
      }
    },
    {
      "cell_type": "code",
      "source": [
        "%%time\n",
        "ols_sk = skLinearRegression(fit_intercept=True,\n",
        "                            n_jobs=-1)\n",
        "\n",
        "ols_sk.fit(X_train, y_train)"
      ],
      "metadata": {
        "colab": {
          "base_uri": "https://localhost:8080/",
          "height": 112
        },
        "id": "cJieSd0_b5bW",
        "outputId": "ada565ce-af32-44dd-8fa8-8785968c946e"
      },
      "execution_count": 61,
      "outputs": [
        {
          "output_type": "stream",
          "name": "stdout",
          "text": [
            "CPU times: user 39.8 s, sys: 7.51 s, total: 47.3 s\n",
            "Wall time: 37.8 s\n"
          ]
        },
        {
          "output_type": "execute_result",
          "data": {
            "text/plain": [
              "LinearRegression(n_jobs=-1)"
            ],
            "text/html": [
              "<style>#sk-container-id-3 {color: black;background-color: white;}#sk-container-id-3 pre{padding: 0;}#sk-container-id-3 div.sk-toggleable {background-color: white;}#sk-container-id-3 label.sk-toggleable__label {cursor: pointer;display: block;width: 100%;margin-bottom: 0;padding: 0.3em;box-sizing: border-box;text-align: center;}#sk-container-id-3 label.sk-toggleable__label-arrow:before {content: \"▸\";float: left;margin-right: 0.25em;color: #696969;}#sk-container-id-3 label.sk-toggleable__label-arrow:hover:before {color: black;}#sk-container-id-3 div.sk-estimator:hover label.sk-toggleable__label-arrow:before {color: black;}#sk-container-id-3 div.sk-toggleable__content {max-height: 0;max-width: 0;overflow: hidden;text-align: left;background-color: #f0f8ff;}#sk-container-id-3 div.sk-toggleable__content pre {margin: 0.2em;color: black;border-radius: 0.25em;background-color: #f0f8ff;}#sk-container-id-3 input.sk-toggleable__control:checked~div.sk-toggleable__content {max-height: 200px;max-width: 100%;overflow: auto;}#sk-container-id-3 input.sk-toggleable__control:checked~label.sk-toggleable__label-arrow:before {content: \"▾\";}#sk-container-id-3 div.sk-estimator input.sk-toggleable__control:checked~label.sk-toggleable__label {background-color: #d4ebff;}#sk-container-id-3 div.sk-label input.sk-toggleable__control:checked~label.sk-toggleable__label {background-color: #d4ebff;}#sk-container-id-3 input.sk-hidden--visually {border: 0;clip: rect(1px 1px 1px 1px);clip: rect(1px, 1px, 1px, 1px);height: 1px;margin: -1px;overflow: hidden;padding: 0;position: absolute;width: 1px;}#sk-container-id-3 div.sk-estimator {font-family: monospace;background-color: #f0f8ff;border: 1px dotted black;border-radius: 0.25em;box-sizing: border-box;margin-bottom: 0.5em;}#sk-container-id-3 div.sk-estimator:hover {background-color: #d4ebff;}#sk-container-id-3 div.sk-parallel-item::after {content: \"\";width: 100%;border-bottom: 1px solid gray;flex-grow: 1;}#sk-container-id-3 div.sk-label:hover label.sk-toggleable__label {background-color: #d4ebff;}#sk-container-id-3 div.sk-serial::before {content: \"\";position: absolute;border-left: 1px solid gray;box-sizing: border-box;top: 0;bottom: 0;left: 50%;z-index: 0;}#sk-container-id-3 div.sk-serial {display: flex;flex-direction: column;align-items: center;background-color: white;padding-right: 0.2em;padding-left: 0.2em;position: relative;}#sk-container-id-3 div.sk-item {position: relative;z-index: 1;}#sk-container-id-3 div.sk-parallel {display: flex;align-items: stretch;justify-content: center;background-color: white;position: relative;}#sk-container-id-3 div.sk-item::before, #sk-container-id-3 div.sk-parallel-item::before {content: \"\";position: absolute;border-left: 1px solid gray;box-sizing: border-box;top: 0;bottom: 0;left: 50%;z-index: -1;}#sk-container-id-3 div.sk-parallel-item {display: flex;flex-direction: column;z-index: 1;position: relative;background-color: white;}#sk-container-id-3 div.sk-parallel-item:first-child::after {align-self: flex-end;width: 50%;}#sk-container-id-3 div.sk-parallel-item:last-child::after {align-self: flex-start;width: 50%;}#sk-container-id-3 div.sk-parallel-item:only-child::after {width: 0;}#sk-container-id-3 div.sk-dashed-wrapped {border: 1px dashed gray;margin: 0 0.4em 0.5em 0.4em;box-sizing: border-box;padding-bottom: 0.4em;background-color: white;}#sk-container-id-3 div.sk-label label {font-family: monospace;font-weight: bold;display: inline-block;line-height: 1.2em;}#sk-container-id-3 div.sk-label-container {text-align: center;}#sk-container-id-3 div.sk-container {/* jupyter's `normalize.less` sets `[hidden] { display: none; }` but bootstrap.min.css set `[hidden] { display: none !important; }` so we also need the `!important` here to be able to override the default hidden behavior on the sphinx rendered scikit-learn.org. See: https://github.com/scikit-learn/scikit-learn/issues/21755 */display: inline-block !important;position: relative;}#sk-container-id-3 div.sk-text-repr-fallback {display: none;}</style><div id=\"sk-container-id-3\" class=\"sk-top-container\"><div class=\"sk-text-repr-fallback\"><pre>LinearRegression(n_jobs=-1)</pre><b>In a Jupyter environment, please rerun this cell to show the HTML representation or trust the notebook. <br />On GitHub, the HTML representation is unable to render, please try loading this page with nbviewer.org.</b></div><div class=\"sk-container\" hidden><div class=\"sk-item\"><div class=\"sk-estimator sk-toggleable\"><input class=\"sk-toggleable__control sk-hidden--visually\" id=\"sk-estimator-id-3\" type=\"checkbox\" checked><label for=\"sk-estimator-id-3\" class=\"sk-toggleable__label sk-toggleable__label-arrow\">LinearRegression</label><div class=\"sk-toggleable__content\"><pre>LinearRegression(n_jobs=-1)</pre></div></div></div></div></div>"
            ]
          },
          "metadata": {},
          "execution_count": 61
        }
      ]
    },
    {
      "cell_type": "markdown",
      "source": [
        "### Predict"
      ],
      "metadata": {
        "id": "CkM7pDOFcK8m"
      }
    },
    {
      "cell_type": "code",
      "source": [
        "%%time\n",
        "predict_sk = ols_sk.predict(X_test)"
      ],
      "metadata": {
        "colab": {
          "base_uri": "https://localhost:8080/"
        },
        "id": "b14kCNjEcJvq",
        "outputId": "c565febc-6b3e-4a23-8a36-afe96bdb063a"
      },
      "execution_count": 62,
      "outputs": [
        {
          "output_type": "stream",
          "name": "stdout",
          "text": [
            "CPU times: user 109 ms, sys: 928 µs, total: 109 ms\n",
            "Wall time: 85.1 ms\n"
          ]
        }
      ]
    },
    {
      "cell_type": "markdown",
      "source": [
        "### Evaluate"
      ],
      "metadata": {
        "id": "jagKna7ZcTL2"
      }
    },
    {
      "cell_type": "code",
      "source": [
        "%%time\n",
        "r2_score_sk = r2_score(y_test, predict_sk)\n",
        "acc_sk_linreg = accuracy_score(y_test, sk_predict)"
      ],
      "metadata": {
        "colab": {
          "base_uri": "https://localhost:8080/"
        },
        "id": "P67dfN-HcQ-0",
        "outputId": "9a43058f-31e4-4fd1-c9e5-e3b3c55f957f"
      },
      "execution_count": 74,
      "outputs": [
        {
          "output_type": "stream",
          "name": "stdout",
          "text": [
            "CPU times: user 9.75 ms, sys: 0 ns, total: 9.75 ms\n",
            "Wall time: 9.82 ms\n"
          ]
        }
      ]
    },
    {
      "cell_type": "markdown",
      "source": [
        "## cuML Model"
      ],
      "metadata": {
        "id": "I1i11HMyewMg"
      }
    },
    {
      "cell_type": "markdown",
      "source": [
        "### Fit Model"
      ],
      "metadata": {
        "id": "DdTrg37we3PK"
      }
    },
    {
      "cell_type": "code",
      "source": [
        "%%time\n",
        "ols_cuml = cuLinearRegression(fit_intercept=True,\n",
        "                              algorithm='eig')\n",
        "\n",
        "ols_cuml.fit(X_cudf, y_cudf)"
      ],
      "metadata": {
        "colab": {
          "base_uri": "https://localhost:8080/"
        },
        "id": "gmzV9rzMey1M",
        "outputId": "dafd14df-012a-4271-8115-de163280211b"
      },
      "execution_count": 67,
      "outputs": [
        {
          "output_type": "stream",
          "name": "stdout",
          "text": [
            "CPU times: user 218 ms, sys: 4.48 ms, total: 223 ms\n",
            "Wall time: 255 ms\n"
          ]
        },
        {
          "output_type": "execute_result",
          "data": {
            "text/plain": [
              "LinearRegression()"
            ]
          },
          "metadata": {},
          "execution_count": 67
        }
      ]
    },
    {
      "cell_type": "markdown",
      "source": [
        "### Predict"
      ],
      "metadata": {
        "id": "cDVvw7xWe6ne"
      }
    },
    {
      "cell_type": "code",
      "source": [
        "%%time\n",
        "predict_cuml = ols_cuml.predict(X_cudf_test)"
      ],
      "metadata": {
        "colab": {
          "base_uri": "https://localhost:8080/"
        },
        "id": "ZvmbKvY0e71J",
        "outputId": "d303cc41-34f2-4ee7-d54b-7403fcc9d625"
      },
      "execution_count": 68,
      "outputs": [
        {
          "output_type": "stream",
          "name": "stdout",
          "text": [
            "CPU times: user 97.1 ms, sys: 3.14 ms, total: 100 ms\n",
            "Wall time: 158 ms\n"
          ]
        }
      ]
    },
    {
      "cell_type": "markdown",
      "source": [
        "### Evaluate"
      ],
      "metadata": {
        "id": "i3SIJyGCe9WN"
      }
    },
    {
      "cell_type": "code",
      "source": [
        "%%time\n",
        "r2_score_cuml = r2_score(y_cudf_test, predict_cuml)\n",
        "acc_origin_linreg = accuracy_score(y_cudf_test.to_numpy(), predict_cuml)"
      ],
      "metadata": {
        "colab": {
          "base_uri": "https://localhost:8080/"
        },
        "id": "ZX1K9mgXe-cN",
        "outputId": "73386091-f9ca-4f35-91ed-2e04a3b23b8a"
      },
      "execution_count": 71,
      "outputs": [
        {
          "output_type": "stream",
          "name": "stdout",
          "text": [
            "CPU times: user 1.78 s, sys: 16.7 ms, total: 1.8 s\n",
            "Wall time: 2.84 s\n"
          ]
        }
      ]
    },
    {
      "cell_type": "markdown",
      "source": [
        "## Pickle Linear Regression Model"
      ],
      "metadata": {
        "id": "zHAKs07qfjer"
      }
    },
    {
      "cell_type": "code",
      "source": [
        "filename = 'cuml_linear_regression_model.sav'\n",
        "# save the trained cuml model into a file\n",
        "pickle.dump(ols_cuml, open(filename, 'wb'))\n",
        "# delete the previous model to ensure that there is no leakage of pointers.\n",
        "# this is not strictly necessary but just included here for demo purposes.\n",
        "del ols_cuml\n",
        "# load the previously saved cuml model from a file\n",
        "pickled_cuml_model = pickle.load(open(filename, 'rb'))"
      ],
      "metadata": {
        "id": "jzF2MVe_fl1o"
      },
      "execution_count": 72,
      "outputs": []
    },
    {
      "cell_type": "code",
      "source": [
        "# predict using the pickled model\n",
        "%%time\n",
        "pred_after_pickling = pickled_cuml_model.predict(X_cudf_test)\n",
        "\n",
        "fil_acc_after_pickling = accuracy_score(y_test.to_numpy(), pred_after_pickling)"
      ],
      "metadata": {
        "colab": {
          "base_uri": "https://localhost:8080/"
        },
        "id": "0qQKxt2Ff4Ze",
        "outputId": "6eb51b57-329a-4fe5-ead4-b6fb35a72ec8"
      },
      "execution_count": 73,
      "outputs": [
        {
          "output_type": "stream",
          "name": "stdout",
          "text": [
            "CPU times: user 55.3 ms, sys: 5.04 ms, total: 60.4 ms\n",
            "Wall time: 62 ms\n"
          ]
        }
      ]
    },
    {
      "cell_type": "markdown",
      "source": [
        "### Compare Results"
      ],
      "metadata": {
        "id": "2gU5jnc2gAZ7"
      }
    },
    {
      "cell_type": "code",
      "source": [
        "print(\"CUML accuracy of the RF model before pickling: %s\" % acc_origin_linreg)\n",
        "print(\"CUML accuracy of the RF model after pickling: %s\" % fil_acc_after_pickling)"
      ],
      "metadata": {
        "colab": {
          "base_uri": "https://localhost:8080/"
        },
        "outputId": "4fc16343-3ea8-4ef0-c612-79310eceb272",
        "id": "s0Lhx3PQgAZ7"
      },
      "execution_count": 75,
      "outputs": [
        {
          "output_type": "stream",
          "name": "stdout",
          "text": [
            "CUML accuracy of the RF model before pickling: 0.9966192245483398\n",
            "CUML accuracy of the RF model after pickling: 0.9966192245483398\n"
          ]
        }
      ]
    },
    {
      "cell_type": "code",
      "source": [
        "print(\"SKL accuracy: %s\" % acc_sk_linreg)\n",
        "print(\"CUML accuracy before pickling: %s\" % acc_origin_linreg)"
      ],
      "metadata": {
        "colab": {
          "base_uri": "https://localhost:8080/"
        },
        "outputId": "15c4de45-b456-442b-ef85-e7e97e90bda0",
        "id": "m2anhxXKgAZ7"
      },
      "execution_count": 76,
      "outputs": [
        {
          "output_type": "stream",
          "name": "stdout",
          "text": [
            "SKL accuracy: 0.002439024392515421\n",
            "CUML accuracy before pickling: 0.9966192245483398\n"
          ]
        }
      ]
    },
    {
      "cell_type": "markdown",
      "source": [
        "## Compare Results"
      ],
      "metadata": {
        "id": "MZWPpQkAfA0u"
      }
    },
    {
      "cell_type": "code",
      "source": [
        "print(\"R^2 score (SKL):  %s\" % r2_score_sk)\n",
        "print(\"R^2 score (cuML): %s\" % r2_score_cuml)"
      ],
      "metadata": {
        "colab": {
          "base_uri": "https://localhost:8080/"
        },
        "id": "Ljgc0RK2fC2Z",
        "outputId": "854ef863-377b-4880-8888-6c20c3b988d8"
      },
      "execution_count": 77,
      "outputs": [
        {
          "output_type": "stream",
          "name": "stdout",
          "text": [
            "R^2 score (SKL):  1.0\n",
            "R^2 score (cuML): 1.0\n"
          ]
        }
      ]
    },
    {
      "cell_type": "markdown",
      "source": [
        "# SVC"
      ],
      "metadata": {
        "id": "ecNdD0yqdI3X"
      }
    },
    {
      "cell_type": "code",
      "source": [
        "from cuml.svm import SVC as SVC_gpu\n",
        "clf_svc = SVC_gpu(kernel='poly', degree=2, gamma='auto', C=1)\n",
        "clf_svc.fit(X_train, y_train)"
      ],
      "metadata": {
        "id": "SRj2k4FKdKox"
      },
      "execution_count": 78,
      "outputs": []
    },
    {
      "cell_type": "code",
      "source": [
        "# define params\n",
        "max_iter = 300\n",
        "n_clusters = 3\n",
        "random_state = 42\n",
        "init = 'scalable-k-means++'"
      ],
      "metadata": {
        "id": "hecYX9VEdxCL"
      },
      "execution_count": 79,
      "outputs": []
    },
    {
      "cell_type": "code",
      "source": [
        "host_data = X.to_pandas()\n",
        "host_labels = y.to_pandas()"
      ],
      "metadata": {
        "id": "9e3KnGccd4PM"
      },
      "execution_count": 82,
      "outputs": []
    },
    {
      "cell_type": "markdown",
      "source": [
        "## Scikit-learn Model"
      ],
      "metadata": {
        "id": "UA83DOAdhNt5"
      }
    },
    {
      "cell_type": "code",
      "source": [],
      "metadata": {
        "id": "T3m4GsNriT0i"
      },
      "execution_count": null,
      "outputs": []
    },
    {
      "cell_type": "markdown",
      "source": [
        "## cuML Model"
      ],
      "metadata": {
        "id": "ykvcvqsEhorR"
      }
    },
    {
      "cell_type": "code",
      "source": [
        "kmeans_cuml = cuKMeans(\n",
        "    init=\"k-means||\",\n",
        "    n_clusters=n_clusters,\n",
        "    random_state=random_state\n",
        ")\n",
        "\n",
        "%timeit kmeans_cuml.fit(X)"
      ],
      "metadata": {
        "id": "dQZc5-1ahp6Q"
      },
      "execution_count": null,
      "outputs": []
    }
  ]
}